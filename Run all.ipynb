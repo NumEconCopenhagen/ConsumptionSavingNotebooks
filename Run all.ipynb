{
 "cells": [
  {
   "cell_type": "markdown",
   "id": "569cbc51",
   "metadata": {},
   "source": [
    "# Run all"
   ]
  },
  {
   "cell_type": "markdown",
   "id": "c13c82d6",
   "metadata": {},
   "source": [
    "**Table of contents**<a id='toc0_'></a>    \n",
    "- 1. [Imports](#toc1_)    \n",
    "- 2. [Settings](#toc2_)    \n",
    "- 3. [Run](#toc3_)    \n",
    "\n",
    "<!-- vscode-jupyter-toc-config\n",
    "\tnumbering=true\n",
    "\tanchor=true\n",
    "\tflat=false\n",
    "\tminLevel=2\n",
    "\tmaxLevel=6\n",
    "\t/vscode-jupyter-toc-config -->\n",
    "<!-- THIS CELL WILL BE REPLACED ON TOC UPDATE. DO NOT WRITE YOUR TEXT IN THIS CELL -->"
   ]
  },
  {
   "cell_type": "markdown",
   "id": "eae3cc04",
   "metadata": {},
   "source": [
    "## 1. <a id='toc1_'></a>[Imports](#toc0_)"
   ]
  },
  {
   "cell_type": "code",
   "execution_count": 1,
   "id": "af33ddc5-87d5-4156-a416-25b702ad0063",
   "metadata": {},
   "outputs": [],
   "source": [
    "import os\n",
    "import glob\n",
    "import shutil\n",
    "import time\n",
    "\n",
    "import papermill as pm"
   ]
  },
  {
   "cell_type": "markdown",
   "id": "ecd5b4b9",
   "metadata": {},
   "source": [
    "## 2. <a id='toc2_'></a>[Settings](#toc0_)"
   ]
  },
  {
   "cell_type": "code",
   "execution_count": 2,
   "id": "6f78489a-a06d-40b2-87c4-7e52f4b5279b",
   "metadata": {},
   "outputs": [],
   "source": [
    "def run_jupyter(filename):\n",
    "\n",
    "    try:\n",
    "        pm.execute_notebook(filename,f'temp_notebooks/{filename}')\n",
    "        shutil.copy(f'temp_notebooks/{filename}',f'{filename}')\n",
    "        time.sleep(1)\n",
    "        os.remove(f'temp_notebooks/{filename}')\n",
    "    except Exception as e:\n",
    "        print(f'failed, {e}',end='')\n",
    "        "
   ]
  },
  {
   "cell_type": "markdown",
   "id": "41256da3",
   "metadata": {},
   "source": [
    "## 3. <a id='toc3_'></a>[Run](#toc0_)"
   ]
  },
  {
   "cell_type": "markdown",
   "id": "af514979",
   "metadata": {},
   "source": [
    "**Note:** Widgets create problems."
   ]
  },
  {
   "cell_type": "code",
   "execution_count": 3,
   "id": "536e299d-d812-4fd8-9321-a143dd911542",
   "metadata": {},
   "outputs": [
    {
     "name": "stdout",
     "output_type": "stream",
     "text": [
      "### 01. BufferStockModel ###\n",
      "01. BufferStockModel.ipynb"
     ]
    },
    {
     "data": {
      "application/vnd.jupyter.widget-view+json": {
       "model_id": "8f3a410b598c41249094ea5898b29162",
       "version_major": 2,
       "version_minor": 0
      },
      "text/plain": [
       "Executing:   0%|          | 0/36 [00:00<?, ?cell/s]"
      ]
     },
     "metadata": {},
     "output_type": "display_data"
    },
    {
     "name": "stdout",
     "output_type": "stream",
     "text": [
      " [done in 426.4 secs]\n",
      "\n",
      "02. Calling C++.ipynb"
     ]
    },
    {
     "data": {
      "application/vnd.jupyter.widget-view+json": {
       "model_id": "0013ea70d63e483e9805c47cddbd936f",
       "version_major": 2,
       "version_minor": 0
      },
      "text/plain": [
       "Executing:   0%|          | 0/13 [00:00<?, ?cell/s]"
      ]
     },
     "metadata": {},
     "output_type": "display_data"
    },
    {
     "name": "stdout",
     "output_type": "stream",
     "text": [
      " [done in 33.8 secs]\n",
      "\n",
      "\n",
      "### 02. DurableConsumptionModel ###\n",
      "01. Example.ipynb"
     ]
    },
    {
     "data": {
      "application/vnd.jupyter.widget-view+json": {
       "model_id": "dd72b29e55ac4c24a160d615e582ed57",
       "version_major": 2,
       "version_minor": 0
      },
      "text/plain": [
       "Executing:   0%|          | 0/37 [00:00<?, ?cell/s]"
      ]
     },
     "metadata": {},
     "output_type": "display_data"
    },
    {
     "name": "stdout",
     "output_type": "stream",
     "text": [
      " [done in 165.0 secs]\n",
      "\n",
      "02. Speed and accuracy.ipynb"
     ]
    },
    {
     "data": {
      "application/vnd.jupyter.widget-view+json": {
       "model_id": "4166a8fd0d8f4793b605d3c67ae89ecd",
       "version_major": 2,
       "version_minor": 0
      },
      "text/plain": [
       "Executing:   0%|          | 0/27 [00:00<?, ?cell/s]"
      ]
     },
     "metadata": {},
     "output_type": "display_data"
    },
    {
     "name": "stdout",
     "output_type": "stream",
     "text": [
      " [done in 7179.2 secs]\n",
      "\n",
      "03. Speed and accuracy - 2d.ipynb"
     ]
    },
    {
     "data": {
      "application/vnd.jupyter.widget-view+json": {
       "model_id": "ea51c9b5227b408db3a25893772dc0eb",
       "version_major": 2,
       "version_minor": 0
      },
      "text/plain": [
       "Executing:   0%|          | 0/23 [00:00<?, ?cell/s]"
      ]
     },
     "metadata": {},
     "output_type": "display_data"
    }
   ],
   "source": [
    "for folder in glob.glob('0*.*'):\n",
    "\n",
    "    # current path\n",
    "    print(f'### {folder} ###')\n",
    "    print('')\n",
    "\n",
    "    try:\n",
    "        \n",
    "        os.chdir(f'{os.getcwd()}/{folder}')\n",
    "\n",
    "        if os.path.isdir('temp_notebooks'):\n",
    "            for filename in glob.glob(fr'temp_notebooks/*.ipynb'):\n",
    "                os.remove(filename)\n",
    "        else:\n",
    "            os.mkdir('temp_notebooks')    \n",
    "\n",
    "        for filename in glob.glob(fr'*.ipynb'):\n",
    "            \n",
    "            print(filename,end='')\n",
    "\n",
    "            t0 = time.time()\n",
    "            run_jupyter(filename) \n",
    "            print(f' [done in {time.time()-t0:.1f} secs]\\n')\n",
    "\n",
    "    except Exception as e:\n",
    "\n",
    "        pass\n",
    "\n",
    "    os.chdir('..')\n",
    "    print('')\n"
   ]
  }
 ],
 "metadata": {
  "kernelspec": {
   "display_name": "base",
   "language": "python",
   "name": "python3"
  },
  "language_info": {
   "codemirror_mode": {
    "name": "ipython",
    "version": 3
   },
   "file_extension": ".py",
   "mimetype": "text/x-python",
   "name": "python",
   "nbconvert_exporter": "python",
   "pygments_lexer": "ipython3",
   "version": "3.11.3"
  },
  "vscode": {
   "interpreter": {
    "hash": "47ef90cdf3004d3f859f1fb202523c65c07ba7c22eefd261b181f4744e2d0403"
   }
  }
 },
 "nbformat": 4,
 "nbformat_minor": 5
}

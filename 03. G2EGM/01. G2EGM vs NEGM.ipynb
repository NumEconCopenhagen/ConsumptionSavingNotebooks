{
 "cells": [
  {
   "cell_type": "markdown",
   "id": "1f540153",
   "metadata": {
    "papermill": {
     "duration": 0.013011,
     "end_time": "2023-07-13T23:49:18.113782",
     "exception": false,
     "start_time": "2023-07-13T23:49:18.100771",
     "status": "completed"
    },
    "tags": []
   },
   "source": [
    "# G2EGM vs. NEGM"
   ]
  },
  {
   "cell_type": "markdown",
   "id": "c1671561",
   "metadata": {
    "papermill": {
     "duration": 0.005002,
     "end_time": "2023-07-13T23:49:18.124791",
     "exception": false,
     "start_time": "2023-07-13T23:49:18.119789",
     "status": "completed"
    },
    "tags": []
   },
   "source": [
    "**Table of contents**<a id='toc0_'></a>    \n",
    "- 1. [Setup](#toc1_)    \n",
    "- 2. [Choose number of threads in numba](#toc2_)    \n",
    "- 3. [Settings](#toc3_)    \n",
    "- 4. [Timing function](#toc4_)    \n",
    "- 5. [NEGM](#toc5_)    \n",
    "- 6. [G2EGM](#toc6_)    \n",
    "- 7. [Table](#toc7_)    \n",
    "\n",
    "<!-- vscode-jupyter-toc-config\n",
    "\tnumbering=true\n",
    "\tanchor=true\n",
    "\tflat=false\n",
    "\tminLevel=2\n",
    "\tmaxLevel=6\n",
    "\t/vscode-jupyter-toc-config -->\n",
    "<!-- THIS CELL WILL BE REPLACED ON TOC UPDATE. DO NOT WRITE YOUR TEXT IN THIS CELL -->"
   ]
  },
  {
   "cell_type": "markdown",
   "id": "74359f26",
   "metadata": {
    "papermill": {
     "duration": 0.005004,
     "end_time": "2023-07-13T23:49:18.134799",
     "exception": false,
     "start_time": "2023-07-13T23:49:18.129795",
     "status": "completed"
    },
    "tags": []
   },
   "source": [
    "This notebook produces the timing and accuracy results for the comparison of **NEGM** and **G2EGM** in [A Guide to Solve Non-Convex Consumption-Saving Models](https://doi.org/10.1007/s10614-020-10045-x)."
   ]
  },
  {
   "cell_type": "markdown",
   "id": "5352f8f3",
   "metadata": {
    "papermill": {
     "duration": 0.005003,
     "end_time": "2023-07-13T23:49:18.143806",
     "exception": false,
     "start_time": "2023-07-13T23:49:18.138803",
     "status": "completed"
    },
    "tags": []
   },
   "source": [
    "## 1. <a id='toc1_'></a>[Setup](#toc0_)"
   ]
  },
  {
   "cell_type": "code",
   "execution_count": 1,
   "id": "8d0ce1b9",
   "metadata": {
    "execution": {
     "iopub.execute_input": "2023-07-13T23:49:18.155817Z",
     "iopub.status.busy": "2023-07-13T23:49:18.154816Z",
     "iopub.status.idle": "2023-07-13T23:49:29.729349Z",
     "shell.execute_reply": "2023-07-13T23:49:29.729349Z"
    },
    "papermill": {
     "duration": 11.586543,
     "end_time": "2023-07-13T23:49:29.734353",
     "exception": false,
     "start_time": "2023-07-13T23:49:18.147810",
     "status": "completed"
    },
    "tags": []
   },
   "outputs": [],
   "source": [
    "%load_ext autoreload\n",
    "%autoreload 2\n",
    "\n",
    "import time\n",
    "import numpy as np\n",
    "np.seterr(all='ignore') # ignoring all warnings\n",
    "\n",
    "# load the G2EGMModel module\n",
    "from G2EGMModel import G2EGMModelClass\n",
    "import figs\n",
    "import simulate"
   ]
  },
  {
   "cell_type": "markdown",
   "id": "3bd4d296",
   "metadata": {
    "papermill": {
     "duration": 0.007005,
     "end_time": "2023-07-13T23:49:29.752368",
     "exception": false,
     "start_time": "2023-07-13T23:49:29.745363",
     "status": "completed"
    },
    "tags": []
   },
   "source": [
    "## 2. <a id='toc2_'></a>[Choose number of threads in numba](#toc0_)"
   ]
  },
  {
   "cell_type": "code",
   "execution_count": 2,
   "id": "d2f194e3",
   "metadata": {
    "execution": {
     "iopub.execute_input": "2023-07-13T23:49:29.764378Z",
     "iopub.status.busy": "2023-07-13T23:49:29.763377Z",
     "iopub.status.idle": "2023-07-13T23:49:29.984560Z",
     "shell.execute_reply": "2023-07-13T23:49:29.983559Z"
    },
    "papermill": {
     "duration": 0.232192,
     "end_time": "2023-07-13T23:49:29.989564",
     "exception": false,
     "start_time": "2023-07-13T23:49:29.757372",
     "status": "completed"
    },
    "tags": []
   },
   "outputs": [],
   "source": [
    "import numba as nb\n",
    "nb.set_num_threads(1)"
   ]
  },
  {
   "cell_type": "markdown",
   "id": "2c86f6a0",
   "metadata": {
    "papermill": {
     "duration": 0.005004,
     "end_time": "2023-07-13T23:49:30.007579",
     "exception": false,
     "start_time": "2023-07-13T23:49:30.002575",
     "status": "completed"
    },
    "tags": []
   },
   "source": [
    "## 3. <a id='toc3_'></a>[Settings](#toc0_)"
   ]
  },
  {
   "cell_type": "code",
   "execution_count": 3,
   "id": "25dff494",
   "metadata": {
    "execution": {
     "iopub.execute_input": "2023-07-13T23:49:30.020590Z",
     "iopub.status.busy": "2023-07-13T23:49:30.019589Z",
     "iopub.status.idle": "2023-07-13T23:49:30.123675Z",
     "shell.execute_reply": "2023-07-13T23:49:30.122675Z"
    },
    "papermill": {
     "duration": 0.116096,
     "end_time": "2023-07-13T23:49:30.128680",
     "exception": false,
     "start_time": "2023-07-13T23:49:30.012584",
     "status": "completed"
    },
    "tags": []
   },
   "outputs": [],
   "source": [
    "T = 20\n",
    "Neta = 16\n",
    "var_eta = 0.1**2\n",
    "do_print = False"
   ]
  },
  {
   "cell_type": "markdown",
   "id": "9371401e",
   "metadata": {
    "papermill": {
     "duration": 0.006005,
     "end_time": "2023-07-13T23:49:30.145694",
     "exception": false,
     "start_time": "2023-07-13T23:49:30.139689",
     "status": "completed"
    },
    "tags": []
   },
   "source": [
    "## 4. <a id='toc4_'></a>[Timing function](#toc0_)"
   ]
  },
  {
   "cell_type": "code",
   "execution_count": 4,
   "id": "5b05a50e",
   "metadata": {
    "execution": {
     "iopub.execute_input": "2023-07-13T23:49:30.156703Z",
     "iopub.status.busy": "2023-07-13T23:49:30.156703Z",
     "iopub.status.idle": "2023-07-13T23:49:30.243775Z",
     "shell.execute_reply": "2023-07-13T23:49:30.242774Z"
    },
    "papermill": {
     "duration": 0.096079,
     "end_time": "2023-07-13T23:49:30.246777",
     "exception": false,
     "start_time": "2023-07-13T23:49:30.150698",
     "status": "completed"
    },
    "tags": []
   },
   "outputs": [],
   "source": [
    "def timing(model,\n",
    "           rep=1, # set to 5 in the paper\n",
    "           do_print=True):\n",
    "    \n",
    "    name = model.name\n",
    "    par = model.par\n",
    "    \n",
    "    time_best = np.inf\n",
    "    for i in range(rep):\n",
    "        \n",
    "        model.solve()\n",
    "        model.calculate_euler()\n",
    "            \n",
    "        tot_time = np.sum(model.par.time_work)\n",
    "        if do_print:\n",
    "            print(f'{i}: {tot_time:.2f} secs, euler: {np.nanmean(model.sim.euler):.3f}')\n",
    "            \n",
    "        if tot_time < time_best:\n",
    "            time_best = tot_time\n",
    "            model_best = model.copy('best')\n",
    "            \n",
    "    model_best.name = name\n",
    "    return model_best            "
   ]
  },
  {
   "cell_type": "markdown",
   "id": "68165335",
   "metadata": {
    "papermill": {
     "duration": 0.005004,
     "end_time": "2023-07-13T23:49:30.261790",
     "exception": false,
     "start_time": "2023-07-13T23:49:30.256786",
     "status": "completed"
    },
    "tags": []
   },
   "source": [
    "## 5. <a id='toc5_'></a>[NEGM](#toc0_)"
   ]
  },
  {
   "cell_type": "code",
   "execution_count": 5,
   "id": "811c75ab",
   "metadata": {
    "execution": {
     "iopub.execute_input": "2023-07-13T23:49:30.272799Z",
     "iopub.status.busy": "2023-07-13T23:49:30.271798Z",
     "iopub.status.idle": "2023-07-13T23:52:20.535661Z",
     "shell.execute_reply": "2023-07-13T23:52:20.534660Z"
    },
    "papermill": {
     "duration": 170.27187,
     "end_time": "2023-07-13T23:52:20.538664",
     "exception": false,
     "start_time": "2023-07-13T23:49:30.266794",
     "status": "completed"
    },
    "tags": []
   },
   "outputs": [
    {
     "name": "stdout",
     "output_type": "stream",
     "text": [
      "0: 153.76 secs, euler: -5.367\n"
     ]
    }
   ],
   "source": [
    "model_NEGM = G2EGMModelClass(name='NEGM',par={'solmethod':'NEGM','T':T,'do_print':do_print})\n",
    "model_NEGM.precompile_numba()\n",
    "model_NEGM = timing(model_NEGM)"
   ]
  },
  {
   "cell_type": "code",
   "execution_count": 6,
   "id": "2d404938",
   "metadata": {
    "execution": {
     "iopub.execute_input": "2023-07-13T23:52:20.557680Z",
     "iopub.status.busy": "2023-07-13T23:52:20.556679Z",
     "iopub.status.idle": "2023-07-13T23:55:26.723013Z",
     "shell.execute_reply": "2023-07-13T23:55:26.722014Z"
    },
    "papermill": {
     "duration": 186.17839,
     "end_time": "2023-07-13T23:55:26.727062",
     "exception": false,
     "start_time": "2023-07-13T23:52:20.548672",
     "status": "completed"
    },
    "tags": []
   },
   "outputs": [
    {
     "name": "stdout",
     "output_type": "stream",
     "text": [
      "0: 170.36 secs, euler: -5.201\n"
     ]
    }
   ],
   "source": [
    "model_NEGM_shocks = G2EGMModelClass(name='NEGM_shocks',par={'solmethod':'NEGM','T':T,'do_print':do_print,'Neta':Neta,'var_eta':var_eta})\n",
    "model_NEGM_shocks.precompile_numba()\n",
    "model_NEGM_shocks = timing(model_NEGM_shocks)"
   ]
  },
  {
   "cell_type": "markdown",
   "id": "fac57a7c",
   "metadata": {
    "papermill": {
     "duration": 0.007006,
     "end_time": "2023-07-13T23:55:26.745077",
     "exception": false,
     "start_time": "2023-07-13T23:55:26.738071",
     "status": "completed"
    },
    "tags": []
   },
   "source": [
    "## 6. <a id='toc6_'></a>[G2EGM](#toc0_)"
   ]
  },
  {
   "cell_type": "code",
   "execution_count": 7,
   "id": "3ac928ea",
   "metadata": {
    "execution": {
     "iopub.execute_input": "2023-07-13T23:55:26.764047Z",
     "iopub.status.busy": "2023-07-13T23:55:26.764047Z",
     "iopub.status.idle": "2023-07-13T23:57:33.574565Z",
     "shell.execute_reply": "2023-07-13T23:57:33.573563Z"
    },
    "papermill": {
     "duration": 126.821479,
     "end_time": "2023-07-13T23:57:33.577568",
     "exception": false,
     "start_time": "2023-07-13T23:55:26.756089",
     "status": "completed"
    },
    "tags": []
   },
   "outputs": [
    {
     "name": "stdout",
     "output_type": "stream",
     "text": [
      "0: 83.04 secs, euler: -6.233\n"
     ]
    }
   ],
   "source": [
    "model_G2EGM = G2EGMModelClass(name='G2EGM',par={'solmethod':'G2EGM','T':T,'do_print':do_print})\n",
    "model_G2EGM.precompile_numba()\n",
    "model_G2EGM = timing(model_G2EGM)       "
   ]
  },
  {
   "cell_type": "code",
   "execution_count": 8,
   "id": "ac5859f8",
   "metadata": {
    "execution": {
     "iopub.execute_input": "2023-07-13T23:57:33.597584Z",
     "iopub.status.busy": "2023-07-13T23:57:33.596584Z",
     "iopub.status.idle": "2023-07-14T00:00:02.795464Z",
     "shell.execute_reply": "2023-07-14T00:00:02.794464Z"
    },
    "papermill": {
     "duration": 149.210891,
     "end_time": "2023-07-14T00:00:02.799469",
     "exception": false,
     "start_time": "2023-07-13T23:57:33.588578",
     "status": "completed"
    },
    "tags": []
   },
   "outputs": [
    {
     "name": "stdout",
     "output_type": "stream",
     "text": [
      "0: 105.80 secs, euler: -5.758\n"
     ]
    }
   ],
   "source": [
    "model_G2EGM_shocks = G2EGMModelClass(name='G2EGM_shocks',par={'solmethod':'G2EGM','T':T,'do_print':do_print,'Neta':Neta,'var_eta':var_eta})\n",
    "model_G2EGM_shocks.precompile_numba()\n",
    "model_G2EGM_shocks = timing(model_G2EGM_shocks)"
   ]
  },
  {
   "cell_type": "markdown",
   "id": "674952dd",
   "metadata": {
    "papermill": {
     "duration": 0.006003,
     "end_time": "2023-07-14T00:00:02.817525",
     "exception": false,
     "start_time": "2023-07-14T00:00:02.811522",
     "status": "completed"
    },
    "tags": []
   },
   "source": [
    "## 7. <a id='toc7_'></a>[Table](#toc0_)"
   ]
  },
  {
   "cell_type": "code",
   "execution_count": 9,
   "id": "7ce5a3c7",
   "metadata": {
    "execution": {
     "iopub.execute_input": "2023-07-14T00:00:02.829492Z",
     "iopub.status.busy": "2023-07-14T00:00:02.829492Z",
     "iopub.status.idle": "2023-07-14T00:00:02.959598Z",
     "shell.execute_reply": "2023-07-14T00:00:02.958599Z"
    },
    "papermill": {
     "duration": 0.140071,
     "end_time": "2023-07-14T00:00:02.962602",
     "exception": false,
     "start_time": "2023-07-14T00:00:02.822531",
     "status": "completed"
    },
    "tags": []
   },
   "outputs": [],
   "source": [
    "# a. models\n",
    "models = [model_G2EGM,model_NEGM,model_G2EGM_shocks,model_NEGM_shocks]\n",
    "postfix = '_G2EGM_vs_NEGM'\n",
    "\n",
    "# b. euler erros\n",
    "lines = []\n",
    "txt = 'All (average)'\n",
    "for i,model in enumerate(models):\n",
    "    txt += f' & {np.nanmean(model.sim.euler):.3f}'\n",
    "txt += '\\\\\\\\ \\n'\n",
    "lines.append(txt)\n",
    "\n",
    "txt = '\\\\,\\\\,5th percentile'\n",
    "for i,model in enumerate(models):\n",
    "    txt += f' & {np.nanpercentile(model.sim.euler,5):.3f}'\n",
    "txt += '\\\\\\\\ \\n'    \n",
    "lines.append(txt)\n",
    "\n",
    "txt = '\\\\,\\\\,95th percentile'\n",
    "for i,model in enumerate(models):\n",
    "    txt += f' & {np.nanpercentile(model.sim.euler,95):.3f}'\n",
    "txt += '\\\\\\\\ \\n'   \n",
    "lines.append(txt)\n",
    "\n",
    "with open(f'tabs_euler_errors{postfix}.tex', 'w') as txtfile:\n",
    "    txtfile.writelines(lines)\n",
    "    \n",
    "# c. timings\n",
    "lines = []\n",
    "txt = 'Total'\n",
    "for model in models:\n",
    "    txt += f' & {np.sum(model.par.time_work)/60:.2f}'\n",
    "txt += '\\\\\\\\ \\n'\n",
    "lines.append(txt)\n",
    "\n",
    "txt = 'Post-decision functions'\n",
    "for model in models:\n",
    "    txt += f' & {np.sum(model.par.time_w)/60:.2f}'\n",
    "txt += '\\\\\\\\ \\n'    \n",
    "lines.append(txt)\n",
    "\n",
    "txt = 'EGM-step'\n",
    "for model in models:\n",
    "    txt += f' & {np.sum(model.par.time_egm)/60:.2f}'\n",
    "txt += '\\\\\\\\ \\n' \n",
    "lines.append(txt)\n",
    "\n",
    "txt = 'VFI-step'\n",
    "for model in models:\n",
    "    tot_time = np.sum(model.par.time_vfi)\n",
    "    if tot_time == 0:\n",
    "        txt += f' & '\n",
    "    else:\n",
    "        txt += f' & {tot_time/60:.2f}'\n",
    "txt += '\\\\\\\\ \\n' \n",
    "lines.append(txt)\n",
    "\n",
    "with open(f'tabs_timings{postfix}.tex', 'w') as txtfile:\n",
    "    txtfile.writelines(lines)"
   ]
  }
 ],
 "metadata": {
  "kernelspec": {
   "display_name": "Python 3 (ipykernel)",
   "language": "python",
   "name": "python3"
  },
  "language_info": {
   "codemirror_mode": {
    "name": "ipython",
    "version": 3
   },
   "file_extension": ".py",
   "mimetype": "text/x-python",
   "name": "python",
   "nbconvert_exporter": "python",
   "pygments_lexer": "ipython3",
   "version": "3.11.3"
  },
  "latex_envs": {
   "LaTeX_envs_menu_present": true,
   "autocomplete": true,
   "bibliofile": "biblio.bib",
   "cite_by": "apalike",
   "current_citInitial": 1,
   "eqLabelWithNumbers": true,
   "eqNumInitial": 1,
   "hotkeys": {
    "equation": "Ctrl-E",
    "itemize": "Ctrl-I"
   },
   "labels_anchors": false,
   "latex_user_defs": false,
   "report_style_numbering": false,
   "user_envs_cfg": false
  },
  "papermill": {
   "default_parameters": {},
   "duration": 650.415404,
   "end_time": "2023-07-14T00:00:04.802118",
   "environment_variables": {},
   "exception": null,
   "input_path": "01. G2EGM vs NEGM.ipynb",
   "output_path": "temp_notebooks/01. G2EGM vs NEGM.ipynb",
   "parameters": {},
   "start_time": "2023-07-13T23:49:14.386714",
   "version": "2.4.0"
  },
  "toc": {
   "base_numbering": 1,
   "nav_menu": {},
   "number_sections": true,
   "sideBar": false,
   "skip_h1_title": false,
   "title_cell": "Table of Contents",
   "title_sidebar": "Contents",
   "toc_cell": true,
   "toc_position": {},
   "toc_section_display": true,
   "toc_window_display": false
  },
  "toc-autonumbering": true,
  "varInspector": {
   "cols": {
    "lenName": 16,
    "lenType": 16,
    "lenVar": 40
   },
   "kernels_config": {
    "python": {
     "delete_cmd_postfix": "",
     "delete_cmd_prefix": "del ",
     "library": "var_list.py",
     "varRefreshCmd": "print(var_dic_list())"
    },
    "r": {
     "delete_cmd_postfix": ") ",
     "delete_cmd_prefix": "rm(",
     "library": "var_list.r",
     "varRefreshCmd": "cat(var_dic_list()) "
    }
   },
   "oldHeight": 267,
   "position": {
    "height": "40px",
    "left": "1542.33px",
    "right": "20px",
    "top": "133px",
    "width": "328px"
   },
   "types_to_exclude": [
    "module",
    "function",
    "builtin_function_or_method",
    "instance",
    "_Feature"
   ],
   "varInspector_section_display": "none",
   "window_display": true
  }
 },
 "nbformat": 4,
 "nbformat_minor": 5
}
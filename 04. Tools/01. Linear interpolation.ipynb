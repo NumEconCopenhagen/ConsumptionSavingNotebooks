{
 "cells": [
  {
   "cell_type": "markdown",
   "id": "37ba55ce",
   "metadata": {
    "papermill": {
     "duration": 0.016987,
     "end_time": "2023-07-14T00:00:09.204891",
     "exception": false,
     "start_time": "2023-07-14T00:00:09.187904",
     "status": "completed"
    },
    "tags": []
   },
   "source": [
    "# Linear Interpolation"
   ]
  },
  {
   "cell_type": "markdown",
   "id": "c03146ea",
   "metadata": {
    "papermill": {
     "duration": 0.007001,
     "end_time": "2023-07-14T00:00:09.219899",
     "exception": false,
     "start_time": "2023-07-14T00:00:09.212898",
     "status": "completed"
    },
    "tags": []
   },
   "source": [
    "**Table of contents**<a id='toc0_'></a>    \n",
    "- 1. [Setup](#toc1_)    \n",
    "- 2. [Example](#toc2_)    \n",
    "  - 2.1. [Setup](#toc2_1_)    \n",
    "  - 2.2. [Scipy](#toc2_2_)    \n",
    "  - 2.3. [Single evaluation](#toc2_3_)    \n",
    "  - 2.4. [Vectorized evaluation](#toc2_4_)    \n",
    "  - 2.5. [Single evaluation with preparation](#toc2_5_)    \n",
    "  - 2.6. [Vectorized evaluation with preparation](#toc2_6_)    \n",
    "  - 2.7. [Vectorized evaluation with preparation and monotonicity](#toc2_7_)    \n",
    "- 3. [Timings](#toc3_)    \n",
    "- 4. [Tests in other dimensions](#toc4_)    \n",
    "  - 4.1. [1D](#toc4_1_)    \n",
    "    - 4.1.1. [Setup](#toc4_1_1_)    \n",
    "    - 4.1.2. [Tests](#toc4_1_2_)    \n",
    "  - 4.2. [2D](#toc4_2_)    \n",
    "    - 4.2.1. [Setup](#toc4_2_1_)    \n",
    "    - 4.2.2. [Tests](#toc4_2_2_)    \n",
    "\n",
    "<!-- vscode-jupyter-toc-config\n",
    "\tnumbering=true\n",
    "\tanchor=true\n",
    "\tflat=false\n",
    "\tminLevel=2\n",
    "\tmaxLevel=6\n",
    "\t/vscode-jupyter-toc-config -->\n",
    "<!-- THIS CELL WILL BE REPLACED ON TOC UPDATE. DO NOT WRITE YOUR TEXT IN THIS CELL -->"
   ]
  },
  {
   "cell_type": "markdown",
   "id": "ddb7d76d",
   "metadata": {
    "papermill": {
     "duration": 0.006005,
     "end_time": "2023-07-14T00:00:09.231915",
     "exception": false,
     "start_time": "2023-07-14T00:00:09.225910",
     "status": "completed"
    },
    "tags": []
   },
   "source": [
    "This notebook shows the interface of **consav.linear_interp**, and ensures that the results are exactly the same as for **scipy**.\n",
    "\n",
    "A number of different possibilities exists:\n",
    "\n",
    "1. **Single evaluation** (no preparation, with preparation)\n",
    "2. **Vectorized evaluation** (no preparation, preparation, preparation + monotonicity, preparation + monotonicity + repitition)"
   ]
  },
  {
   "cell_type": "markdown",
   "id": "e9278a0a",
   "metadata": {
    "papermill": {
     "duration": 0.006001,
     "end_time": "2023-07-14T00:00:09.244922",
     "exception": false,
     "start_time": "2023-07-14T00:00:09.238921",
     "status": "completed"
    },
    "tags": []
   },
   "source": [
    "## 1. <a id='toc1_'></a>[Setup](#toc0_)"
   ]
  },
  {
   "cell_type": "code",
   "execution_count": 1,
   "id": "31910ff9",
   "metadata": {
    "ExecuteTime": {
     "end_time": "2018-11-06T22:04:18.877389Z",
     "start_time": "2018-11-06T22:04:13.656182Z"
    },
    "code_folding": [
     0
    ],
    "execution": {
     "iopub.execute_input": "2023-07-14T00:00:09.259932Z",
     "iopub.status.busy": "2023-07-14T00:00:09.258931Z",
     "iopub.status.idle": "2023-07-14T00:00:19.400834Z",
     "shell.execute_reply": "2023-07-14T00:00:19.400834Z"
    },
    "papermill": {
     "duration": 10.153909,
     "end_time": "2023-07-14T00:00:19.404838",
     "exception": false,
     "start_time": "2023-07-14T00:00:09.250929",
     "status": "completed"
    },
    "tags": []
   },
   "outputs": [],
   "source": [
    "%load_ext autoreload\n",
    "%autoreload 2\n",
    "\n",
    "import time\n",
    "import numpy as np\n",
    "from scipy.interpolate import RegularGridInterpolator\n",
    "\n",
    "# load the module\n",
    "from consav import linear_interp"
   ]
  },
  {
   "cell_type": "markdown",
   "id": "fb6237b7",
   "metadata": {
    "papermill": {
     "duration": 0.008006,
     "end_time": "2023-07-14T00:00:19.427856",
     "exception": false,
     "start_time": "2023-07-14T00:00:19.419850",
     "status": "completed"
    },
    "tags": []
   },
   "source": [
    "## 2. <a id='toc2_'></a>[Example](#toc0_)"
   ]
  },
  {
   "cell_type": "markdown",
   "id": "bf34e329",
   "metadata": {
    "papermill": {
     "duration": 0.007006,
     "end_time": "2023-07-14T00:00:19.440867",
     "exception": false,
     "start_time": "2023-07-14T00:00:19.433861",
     "status": "completed"
    },
    "tags": []
   },
   "source": [
    "### 2.1. <a id='toc2_1_'></a>[Setup](#toc0_)"
   ]
  },
  {
   "cell_type": "markdown",
   "id": "14691620",
   "metadata": {
    "papermill": {
     "duration": 0.006005,
     "end_time": "2023-07-14T00:00:19.452877",
     "exception": false,
     "start_time": "2023-07-14T00:00:19.446872",
     "status": "completed"
    },
    "tags": []
   },
   "source": [
    "Function for creating **non-linear grids**:"
   ]
  },
  {
   "cell_type": "code",
   "execution_count": 2,
   "id": "a73f171d",
   "metadata": {
    "execution": {
     "iopub.execute_input": "2023-07-14T00:00:19.468891Z",
     "iopub.status.busy": "2023-07-14T00:00:19.467889Z",
     "iopub.status.idle": "2023-07-14T00:00:19.554962Z",
     "shell.execute_reply": "2023-07-14T00:00:19.554962Z"
    },
    "papermill": {
     "duration": 0.098126,
     "end_time": "2023-07-14T00:00:19.558009",
     "exception": false,
     "start_time": "2023-07-14T00:00:19.459883",
     "status": "completed"
    },
    "tags": []
   },
   "outputs": [],
   "source": [
    "def nonlinspace(x_min, x_max, n, phi):\n",
    "    y = np.empty(n)\n",
    "    y[0] = x_min\n",
    "    for i in range(1, n):\n",
    "        y[i] = y[i-1] + (x_max-y[i-1]) / (n-i)**phi\n",
    "    return y"
   ]
  },
  {
   "cell_type": "markdown",
   "id": "5140a21b",
   "metadata": {
    "papermill": {
     "duration": 0.011009,
     "end_time": "2023-07-14T00:00:19.582985",
     "exception": false,
     "start_time": "2023-07-14T00:00:19.571976",
     "status": "completed"
    },
    "tags": []
   },
   "source": [
    "**Function**, **grids** and **known values**:"
   ]
  },
  {
   "cell_type": "code",
   "execution_count": 3,
   "id": "6782329b",
   "metadata": {
    "execution": {
     "iopub.execute_input": "2023-07-14T00:00:19.603002Z",
     "iopub.status.busy": "2023-07-14T00:00:19.602001Z",
     "iopub.status.idle": "2023-07-14T00:00:20.274602Z",
     "shell.execute_reply": "2023-07-14T00:00:20.273555Z"
    },
    "papermill": {
     "duration": 0.684607,
     "end_time": "2023-07-14T00:00:20.277600",
     "exception": false,
     "start_time": "2023-07-14T00:00:19.592993",
     "status": "completed"
    },
    "tags": []
   },
   "outputs": [],
   "source": [
    "from numba import njit\n",
    "\n",
    "# a. functions\n",
    "@njit\n",
    "def f(x1,x2,x3):\n",
    "    return x1**2*x2+x3*x2**2+x3**2\n",
    "\n",
    "@njit\n",
    "def fill_value(grid1,grid2,grid3,value):\n",
    "    for i in range(grid1.size):\n",
    "        for j in range(grid2.size):\n",
    "            for k in range(grid3.size):\n",
    "                value[i,j,k] = f(grid1[i],grid2[j],grid3[k])    \n",
    "\n",
    "@njit\n",
    "def grids_points_and_value(Nx1,Nx2,Nx3):\n",
    "\n",
    "    grid1 = np.linspace(low_x1,high_x1,Nx1)\n",
    "    grid2 = np.linspace(low_x2,high_x2,Nx2)\n",
    "    grid3 = np.linspace(low_x3,high_x3,Nx3)\n",
    "\n",
    "    value = np.empty((Nx1,Nx2,Nx3))\n",
    "    fill_value(grid1,grid2,grid3,value)\n",
    "    \n",
    "    return grid1,grid2,grid3,value\n",
    "\n",
    "# b. grid points and value\n",
    "Nx1,Nx2,Nx3 = 100,200,300\n",
    "low_x1,low_x2,low_x3 = 1.0,1.0,1.0\n",
    "high_x1,high_x2,high_x3 = 10.0,15.0,12.0\n",
    "grid1,grid2,grid3,value = grids_points_and_value(Nx1,Nx2,Nx3)"
   ]
  },
  {
   "cell_type": "markdown",
   "id": "b68d8158",
   "metadata": {
    "papermill": {
     "duration": 0.007942,
     "end_time": "2023-07-14T00:00:20.299576",
     "exception": false,
     "start_time": "2023-07-14T00:00:20.291634",
     "status": "completed"
    },
    "tags": []
   },
   "source": [
    "Draw **random points** to be evaluated:"
   ]
  },
  {
   "cell_type": "code",
   "execution_count": 4,
   "id": "bfddaa26",
   "metadata": {
    "execution": {
     "iopub.execute_input": "2023-07-14T00:00:20.314588Z",
     "iopub.status.busy": "2023-07-14T00:00:20.314588Z",
     "iopub.status.idle": "2023-07-14T00:00:20.405711Z",
     "shell.execute_reply": "2023-07-14T00:00:20.404662Z"
    },
    "papermill": {
     "duration": 0.10213,
     "end_time": "2023-07-14T00:00:20.408711",
     "exception": false,
     "start_time": "2023-07-14T00:00:20.306581",
     "status": "completed"
    },
    "tags": []
   },
   "outputs": [],
   "source": [
    "Nyi = 100\n",
    "xi = np.empty((Nyi,3))\n",
    "xi1 = np.random.uniform(low=0.9*low_x1,high=1.1*high_x1,size=Nyi) \n",
    "xi2 = np.random.uniform(low=0.9*low_x2,high=1.1*high_x2,size=Nyi) \n",
    "xi3 = np.random.uniform(low=0.9*low_x3,high=1.1*high_x3,size=Nyi)\n",
    "\n",
    "xi[:,0] = xi1\n",
    "xi[:,1] = xi2\n",
    "xi[:,2] = xi3"
   ]
  },
  {
   "cell_type": "markdown",
   "id": "0a95e323",
   "metadata": {
    "papermill": {
     "duration": 0.008006,
     "end_time": "2023-07-14T00:00:20.430683",
     "exception": false,
     "start_time": "2023-07-14T00:00:20.422677",
     "status": "completed"
    },
    "tags": []
   },
   "source": [
    "We also consider a set of points where **the two first dimensions are constant** and **the last dimension is monotone**:"
   ]
  },
  {
   "cell_type": "code",
   "execution_count": 5,
   "id": "01870532",
   "metadata": {
    "execution": {
     "iopub.execute_input": "2023-07-14T00:00:20.444694Z",
     "iopub.status.busy": "2023-07-14T00:00:20.444694Z",
     "iopub.status.idle": "2023-07-14T00:00:20.532815Z",
     "shell.execute_reply": "2023-07-14T00:00:20.531766Z"
    },
    "papermill": {
     "duration": 0.099123,
     "end_time": "2023-07-14T00:00:20.535811",
     "exception": false,
     "start_time": "2023-07-14T00:00:20.436688",
     "status": "completed"
    },
    "tags": []
   },
   "outputs": [],
   "source": [
    "xi_mon = np.empty((Nyi,3))\n",
    "xi_mon[:,0] = xi1[0]\n",
    "xi_mon[:,1] = xi2[0]\n",
    "xi_mon[:,2] = xi3_mon = np.sort(xi3)"
   ]
  },
  {
   "cell_type": "markdown",
   "id": "75f9ea4b",
   "metadata": {
    "papermill": {
     "duration": 0.007005,
     "end_time": "2023-07-14T00:00:20.557787",
     "exception": false,
     "start_time": "2023-07-14T00:00:20.550782",
     "status": "completed"
    },
    "tags": []
   },
   "source": [
    "### 2.2. <a id='toc2_2_'></a>[Scipy](#toc0_)"
   ]
  },
  {
   "cell_type": "markdown",
   "id": "e04ad7a6",
   "metadata": {
    "papermill": {
     "duration": 0.007005,
     "end_time": "2023-07-14T00:00:20.570798",
     "exception": false,
     "start_time": "2023-07-14T00:00:20.563793",
     "status": "completed"
    },
    "tags": []
   },
   "source": [
    "For comparision we use scipy's **RegularGridInterpolator**."
   ]
  },
  {
   "cell_type": "code",
   "execution_count": 6,
   "id": "59002f8e",
   "metadata": {
    "execution": {
     "iopub.execute_input": "2023-07-14T00:00:20.584810Z",
     "iopub.status.busy": "2023-07-14T00:00:20.584810Z",
     "iopub.status.idle": "2023-07-14T00:00:20.671478Z",
     "shell.execute_reply": "2023-07-14T00:00:20.671478Z"
    },
    "papermill": {
     "duration": 0.098679,
     "end_time": "2023-07-14T00:00:20.675482",
     "exception": false,
     "start_time": "2023-07-14T00:00:20.576803",
     "status": "completed"
    },
    "tags": []
   },
   "outputs": [],
   "source": [
    "yi_scipy_interp = RegularGridInterpolator([grid1,grid2,grid3], value, \n",
    "                                          method='linear',bounds_error=False,fill_value=None)\n",
    "yi_scipy = yi_scipy_interp(xi)\n",
    "yi_mon_scipy = yi_scipy_interp(xi_mon)"
   ]
  },
  {
   "cell_type": "markdown",
   "id": "cbe1e429",
   "metadata": {
    "papermill": {
     "duration": 0.007006,
     "end_time": "2023-07-14T00:00:20.696499",
     "exception": false,
     "start_time": "2023-07-14T00:00:20.689493",
     "status": "completed"
    },
    "tags": []
   },
   "source": [
    "### 2.3. <a id='toc2_3_'></a>[Single evaluation](#toc0_)"
   ]
  },
  {
   "cell_type": "code",
   "execution_count": 7,
   "id": "db016a74",
   "metadata": {
    "execution": {
     "iopub.execute_input": "2023-07-14T00:00:20.711511Z",
     "iopub.status.busy": "2023-07-14T00:00:20.711511Z",
     "iopub.status.idle": "2023-07-14T00:00:20.807590Z",
     "shell.execute_reply": "2023-07-14T00:00:20.806589Z"
    },
    "papermill": {
     "duration": 0.107088,
     "end_time": "2023-07-14T00:00:20.810593",
     "exception": false,
     "start_time": "2023-07-14T00:00:20.703505",
     "status": "completed"
    },
    "tags": []
   },
   "outputs": [],
   "source": [
    "for i in range(Nyi):\n",
    "    yi = linear_interp.interp_3d(grid1,grid2,grid3,value,xi1[i],xi2[i],xi3[i])\n",
    "    assert np.allclose(yi_scipy[i],yi)"
   ]
  },
  {
   "cell_type": "markdown",
   "id": "2cb67a1f",
   "metadata": {
    "papermill": {
     "duration": 0.009008,
     "end_time": "2023-07-14T00:00:20.834613",
     "exception": false,
     "start_time": "2023-07-14T00:00:20.825605",
     "status": "completed"
    },
    "tags": []
   },
   "source": [
    "### 2.4. <a id='toc2_4_'></a>[Vectorized evaluation](#toc0_)"
   ]
  },
  {
   "cell_type": "code",
   "execution_count": 8,
   "id": "0b216b78",
   "metadata": {
    "execution": {
     "iopub.execute_input": "2023-07-14T00:00:20.848624Z",
     "iopub.status.busy": "2023-07-14T00:00:20.848624Z",
     "iopub.status.idle": "2023-07-14T00:00:20.937697Z",
     "shell.execute_reply": "2023-07-14T00:00:20.936696Z"
    },
    "papermill": {
     "duration": 0.100082,
     "end_time": "2023-07-14T00:00:20.940700",
     "exception": false,
     "start_time": "2023-07-14T00:00:20.840618",
     "status": "completed"
    },
    "tags": []
   },
   "outputs": [],
   "source": [
    "yi = np.empty(Nyi)\n",
    "linear_interp.interp_3d_vec(grid1,grid2,grid3,value,xi1,xi2,xi3,yi)\n",
    "assert np.allclose(yi_scipy,yi)"
   ]
  },
  {
   "cell_type": "markdown",
   "id": "f51474fb",
   "metadata": {
    "papermill": {
     "duration": 0.007006,
     "end_time": "2023-07-14T00:00:20.962718",
     "exception": false,
     "start_time": "2023-07-14T00:00:20.955712",
     "status": "completed"
    },
    "tags": []
   },
   "source": [
    "### 2.5. <a id='toc2_5_'></a>[Single evaluation with preparation](#toc0_)"
   ]
  },
  {
   "cell_type": "code",
   "execution_count": 9,
   "id": "8b5bbeb8",
   "metadata": {
    "execution": {
     "iopub.execute_input": "2023-07-14T00:00:20.977731Z",
     "iopub.status.busy": "2023-07-14T00:00:20.977731Z",
     "iopub.status.idle": "2023-07-14T00:00:21.067805Z",
     "shell.execute_reply": "2023-07-14T00:00:21.067805Z"
    },
    "papermill": {
     "duration": 0.102084,
     "end_time": "2023-07-14T00:00:21.071808",
     "exception": false,
     "start_time": "2023-07-14T00:00:20.969724",
     "status": "completed"
    },
    "tags": []
   },
   "outputs": [],
   "source": [
    "prep = linear_interp.interp_3d_prep(grid1,grid2,xi1[0],xi2[0],0)\n",
    "for i in range(Nyi):\n",
    "    yi = linear_interp.interp_3d_only_last(prep,grid1,grid2,grid3,value,xi1[0],xi2[0],xi3_mon[i])\n",
    "    assert np.allclose(yi_mon_scipy[i],yi)"
   ]
  },
  {
   "cell_type": "markdown",
   "id": "7bd451ef",
   "metadata": {
    "papermill": {
     "duration": 0.007006,
     "end_time": "2023-07-14T00:00:21.092826",
     "exception": false,
     "start_time": "2023-07-14T00:00:21.085820",
     "status": "completed"
    },
    "tags": []
   },
   "source": [
    "### 2.6. <a id='toc2_6_'></a>[Vectorized evaluation with preparation](#toc0_)"
   ]
  },
  {
   "cell_type": "code",
   "execution_count": 10,
   "id": "24390002",
   "metadata": {
    "execution": {
     "iopub.execute_input": "2023-07-14T00:00:21.107838Z",
     "iopub.status.busy": "2023-07-14T00:00:21.107838Z",
     "iopub.status.idle": "2023-07-14T00:00:21.207920Z",
     "shell.execute_reply": "2023-07-14T00:00:21.207920Z"
    },
    "papermill": {
     "duration": 0.111093,
     "end_time": "2023-07-14T00:00:21.210924",
     "exception": false,
     "start_time": "2023-07-14T00:00:21.099831",
     "status": "completed"
    },
    "tags": []
   },
   "outputs": [],
   "source": [
    "yi = np.empty(Nyi)    \n",
    "prep = linear_interp.interp_3d_prep(grid1,grid2,xi1[0],xi2[0],Nyi)\n",
    "linear_interp.interp_3d_only_last_vec(prep,grid1,grid2,grid3,value,xi1[0],xi2[0],xi3_mon,yi)\n",
    "assert np.allclose(yi_mon_scipy,yi)"
   ]
  },
  {
   "cell_type": "markdown",
   "id": "61b5b30d",
   "metadata": {
    "papermill": {
     "duration": 0.008007,
     "end_time": "2023-07-14T00:00:21.232942",
     "exception": false,
     "start_time": "2023-07-14T00:00:21.224935",
     "status": "completed"
    },
    "tags": []
   },
   "source": [
    "### 2.7. <a id='toc2_7_'></a>[Vectorized evaluation with preparation and monotonicity](#toc0_)"
   ]
  },
  {
   "cell_type": "code",
   "execution_count": 11,
   "id": "75f78316",
   "metadata": {
    "execution": {
     "iopub.execute_input": "2023-07-14T00:00:21.247954Z",
     "iopub.status.busy": "2023-07-14T00:00:21.247954Z",
     "iopub.status.idle": "2023-07-14T00:00:21.342031Z",
     "shell.execute_reply": "2023-07-14T00:00:21.342031Z"
    },
    "papermill": {
     "duration": 0.106087,
     "end_time": "2023-07-14T00:00:21.346035",
     "exception": false,
     "start_time": "2023-07-14T00:00:21.239948",
     "status": "completed"
    },
    "tags": []
   },
   "outputs": [],
   "source": [
    "yi = np.empty(Nyi)\n",
    "prep = linear_interp.interp_3d_prep(grid1,grid2,xi1[0],xi2[0],Nyi)\n",
    "linear_interp.interp_3d_only_last_vec_mon(prep,grid1,grid2,grid3,value,xi1[0],xi2[0],xi3_mon,yi)\n",
    "assert np.allclose(yi_mon_scipy,yi)"
   ]
  },
  {
   "cell_type": "markdown",
   "id": "97bb5995",
   "metadata": {
    "papermill": {
     "duration": 0.007006,
     "end_time": "2023-07-14T00:00:21.367053",
     "exception": false,
     "start_time": "2023-07-14T00:00:21.360047",
     "status": "completed"
    },
    "tags": []
   },
   "source": [
    "After calling **interp_3d_only_last_vec_mon()** some additional information is saved in **prep**. \n",
    "\n",
    "Interpolating for a second time is therefore faster if using **interp_3d_only_last_vec_mon_rep()**. \n",
    "\n",
    "Note, in particular, that the value array can be changed between calls."
   ]
  },
  {
   "cell_type": "code",
   "execution_count": 12,
   "id": "8e2c9ef9",
   "metadata": {
    "execution": {
     "iopub.execute_input": "2023-07-14T00:00:21.383066Z",
     "iopub.status.busy": "2023-07-14T00:00:21.382065Z",
     "iopub.status.idle": "2023-07-14T00:00:21.467135Z",
     "shell.execute_reply": "2023-07-14T00:00:21.467135Z"
    },
    "papermill": {
     "duration": 0.096079,
     "end_time": "2023-07-14T00:00:21.470138",
     "exception": false,
     "start_time": "2023-07-14T00:00:21.374059",
     "status": "completed"
    },
    "tags": []
   },
   "outputs": [],
   "source": [
    "yi = np.empty(Nyi)    \n",
    "linear_interp.interp_3d_only_last_vec_mon_rep(prep,grid1,grid2,grid3,value,xi1[0],xi2[0],xi3_mon,yi)\n",
    "assert np.allclose(yi_mon_scipy,yi)"
   ]
  },
  {
   "cell_type": "markdown",
   "id": "a795ce39",
   "metadata": {
    "papermill": {
     "duration": 0.008006,
     "end_time": "2023-07-14T00:00:21.493157",
     "exception": false,
     "start_time": "2023-07-14T00:00:21.485151",
     "status": "completed"
    },
    "tags": []
   },
   "source": [
    "## 3. <a id='toc3_'></a>[Timings](#toc0_)"
   ]
  },
  {
   "cell_type": "code",
   "execution_count": 13,
   "id": "cde59428",
   "metadata": {
    "execution": {
     "iopub.execute_input": "2023-07-14T00:00:21.508170Z",
     "iopub.status.busy": "2023-07-14T00:00:21.508170Z",
     "iopub.status.idle": "2023-07-14T00:01:46.658297Z",
     "shell.execute_reply": "2023-07-14T00:01:46.658297Z"
    },
    "papermill": {
     "duration": 85.162139,
     "end_time": "2023-07-14T00:01:46.662302",
     "exception": false,
     "start_time": "2023-07-14T00:00:21.500163",
     "status": "completed"
    },
    "tags": []
   },
   "outputs": [
    {
     "name": "stdout",
     "output_type": "stream",
     "text": [
      "scipy: 8.9 secs\n",
      "interp_3d_vec: 1.5 secs\n"
     ]
    },
    {
     "name": "stdout",
     "output_type": "stream",
     "text": [
      "interp_3d_only_last_vec: 0.7 secs\n"
     ]
    },
    {
     "name": "stdout",
     "output_type": "stream",
     "text": [
      "interp_3d_only_last_vec_mon: 0.5 secs\n"
     ]
    },
    {
     "name": "stdout",
     "output_type": "stream",
     "text": [
      "interp_3d_only_last_vec_mon_rep: 0.4 secs\n"
     ]
    },
    {
     "name": "stdout",
     "output_type": "stream",
     "text": [
      "\n"
     ]
    },
    {
     "name": "stdout",
     "output_type": "stream",
     "text": [
      "scipy: 9.0 secs\n",
      "interp_3d_vec: 1.6 secs\n"
     ]
    },
    {
     "name": "stdout",
     "output_type": "stream",
     "text": [
      "interp_3d_only_last_vec: 0.7 secs\n"
     ]
    },
    {
     "name": "stdout",
     "output_type": "stream",
     "text": [
      "interp_3d_only_last_vec_mon: 0.5 secs\n"
     ]
    },
    {
     "name": "stdout",
     "output_type": "stream",
     "text": [
      "interp_3d_only_last_vec_mon_rep: 0.4 secs\n"
     ]
    },
    {
     "name": "stdout",
     "output_type": "stream",
     "text": [
      "\n"
     ]
    },
    {
     "name": "stdout",
     "output_type": "stream",
     "text": [
      "scipy: 9.0 secs\n",
      "interp_3d_vec: 1.4 secs\n"
     ]
    },
    {
     "name": "stdout",
     "output_type": "stream",
     "text": [
      "interp_3d_only_last_vec: 0.7 secs\n"
     ]
    },
    {
     "name": "stdout",
     "output_type": "stream",
     "text": [
      "interp_3d_only_last_vec_mon: 0.5 secs\n"
     ]
    },
    {
     "name": "stdout",
     "output_type": "stream",
     "text": [
      "interp_3d_only_last_vec_mon_rep: 0.4 secs\n"
     ]
    },
    {
     "name": "stdout",
     "output_type": "stream",
     "text": [
      "\n"
     ]
    },
    {
     "name": "stdout",
     "output_type": "stream",
     "text": [
      "scipy: 9.0 secs\n",
      "interp_3d_vec: 1.6 secs\n"
     ]
    },
    {
     "name": "stdout",
     "output_type": "stream",
     "text": [
      "interp_3d_only_last_vec: 0.7 secs\n"
     ]
    },
    {
     "name": "stdout",
     "output_type": "stream",
     "text": [
      "interp_3d_only_last_vec_mon: 0.5 secs\n"
     ]
    },
    {
     "name": "stdout",
     "output_type": "stream",
     "text": [
      "interp_3d_only_last_vec_mon_rep: 0.4 secs\n"
     ]
    },
    {
     "name": "stdout",
     "output_type": "stream",
     "text": [
      "\n"
     ]
    },
    {
     "name": "stdout",
     "output_type": "stream",
     "text": [
      "scipy: 9.0 secs\n",
      "interp_3d_vec: 1.6 secs\n"
     ]
    },
    {
     "name": "stdout",
     "output_type": "stream",
     "text": [
      "interp_3d_only_last_vec: 0.7 secs\n"
     ]
    },
    {
     "name": "stdout",
     "output_type": "stream",
     "text": [
      "interp_3d_only_last_vec_mon: 0.5 secs\n"
     ]
    },
    {
     "name": "stdout",
     "output_type": "stream",
     "text": [
      "interp_3d_only_last_vec_mon_rep: 0.4 secs\n"
     ]
    },
    {
     "name": "stdout",
     "output_type": "stream",
     "text": [
      "\n"
     ]
    }
   ],
   "source": [
    "for _ in range(5):\n",
    "\n",
    "    Nyi = 2*10**7\n",
    "    xi = np.empty((Nyi,3))\n",
    "    xi1 = np.empty(Nyi)\n",
    "    xi2 = np.empty(Nyi)\n",
    "    xi1[:] = np.random.uniform(low=0.9*low_x1,high=1.1*high_x1,size=1)[0]\n",
    "    xi2[:] = np.random.uniform(low=0.9*low_x2,high=1.1*high_x2,size=1)[0]\n",
    "    xi3 = np.random.uniform(low=0.9*low_x3,high=1.1*high_x3,size=Nyi)\n",
    "\n",
    "    xi_mon = np.empty((Nyi,3))\n",
    "    xi_mon[:,0] = xi1\n",
    "    xi_mon[:,1] = xi2\n",
    "    xi_mon[:,2] = xi3_mon = np.sort(xi3)\n",
    "    \n",
    "    tic = time.time()\n",
    "    yi_mon_scipy = yi_scipy_interp(xi_mon)\n",
    "    toc = time.time()\n",
    "    print(f'scipy: {toc-tic:.1f} secs')\n",
    "    \n",
    "    tic = time.time()\n",
    "    yi = np.empty(Nyi)\n",
    "    linear_interp.interp_3d_vec(grid1,grid2,grid3,value,xi1,xi2,xi3_mon,yi)\n",
    "    toc = time.time()\n",
    "    print(f'interp_3d_vec: {toc-tic:.1f} secs')\n",
    "    assert np.allclose(yi_mon_scipy,yi)\n",
    "    \n",
    "    tic = time.time()\n",
    "    yi = np.empty(Nyi)\n",
    "    prep = linear_interp.interp_3d_prep(grid1,grid2,xi1[0],xi2[0],Nyi)\n",
    "    linear_interp.interp_3d_only_last_vec(prep,grid1,grid2,grid3,value,xi1[0],xi2[0],xi3_mon,yi)\n",
    "    toc = time.time()\n",
    "    print(f'interp_3d_only_last_vec: {toc-tic:.1f} secs')    \n",
    "    assert np.allclose(yi_mon_scipy,yi)\n",
    "\n",
    "    tic = time.time()\n",
    "    yi = np.empty(Nyi)\n",
    "    prep = linear_interp.interp_3d_prep(grid1,grid2,xi1[0],xi2[0],Nyi)\n",
    "    linear_interp.interp_3d_only_last_vec_mon(prep,grid1,grid2,grid3,value,xi1[0],xi2[0],xi3_mon,yi)\n",
    "    toc = time.time()\n",
    "    print(f'interp_3d_only_last_vec_mon: {toc-tic:.1f} secs') \n",
    "    assert np.allclose(yi_mon_scipy,yi)\n",
    "    \n",
    "    tic = time.time()\n",
    "    yi = np.empty(Nyi)\n",
    "    linear_interp.interp_3d_only_last_vec_mon_rep(prep,grid1,grid2,grid3,value,xi1[0],xi2[0],xi3_mon,yi)\n",
    "    toc = time.time()\n",
    "    print(f'interp_3d_only_last_vec_mon_rep: {toc-tic:.1f} secs') \n",
    "    assert np.allclose(yi_mon_scipy,yi)\n",
    "        \n",
    "    print('')"
   ]
  },
  {
   "cell_type": "markdown",
   "id": "65e552b8",
   "metadata": {
    "papermill": {
     "duration": 0.008007,
     "end_time": "2023-07-14T00:01:46.686322",
     "exception": false,
     "start_time": "2023-07-14T00:01:46.678315",
     "status": "completed"
    },
    "tags": []
   },
   "source": [
    "## 4. <a id='toc4_'></a>[Tests in other dimensions](#toc0_)"
   ]
  },
  {
   "cell_type": "markdown",
   "id": "90550268",
   "metadata": {
    "papermill": {
     "duration": 0.008007,
     "end_time": "2023-07-14T00:01:46.702335",
     "exception": false,
     "start_time": "2023-07-14T00:01:46.694328",
     "status": "completed"
    },
    "tags": []
   },
   "source": [
    "### 4.1. <a id='toc4_1_'></a>[1D](#toc0_)"
   ]
  },
  {
   "cell_type": "markdown",
   "id": "ed1e6775",
   "metadata": {
    "papermill": {
     "duration": 0.009007,
     "end_time": "2023-07-14T00:01:46.719400",
     "exception": false,
     "start_time": "2023-07-14T00:01:46.710393",
     "status": "completed"
    },
    "tags": []
   },
   "source": [
    "#### 4.1.1. <a id='toc4_1_1_'></a>[Setup](#toc0_)"
   ]
  },
  {
   "cell_type": "code",
   "execution_count": 14,
   "id": "f213cb74",
   "metadata": {
    "execution": {
     "iopub.execute_input": "2023-07-14T00:01:46.737364Z",
     "iopub.status.busy": "2023-07-14T00:01:46.737364Z",
     "iopub.status.idle": "2023-07-14T00:01:47.074642Z",
     "shell.execute_reply": "2023-07-14T00:01:47.073642Z"
    },
    "papermill": {
     "duration": 0.351283,
     "end_time": "2023-07-14T00:01:47.078690",
     "exception": false,
     "start_time": "2023-07-14T00:01:46.727407",
     "status": "completed"
    },
    "tags": []
   },
   "outputs": [],
   "source": [
    "# a. functions\n",
    "@njit\n",
    "def f(x1):\n",
    "    return x1**2\n",
    "\n",
    "@njit\n",
    "def fill_value(grid1,value):\n",
    "    for i in range(grid1.size):\n",
    "        value[i] = f(grid1[i])    \n",
    "\n",
    "@njit\n",
    "def grids_points_and_value(Nx1):\n",
    "\n",
    "    grid1 = np.linspace(low_x1,high_x1,Nx1)\n",
    "\n",
    "    value = np.empty(Nx1)\n",
    "    fill_value(grid1,value)\n",
    "    \n",
    "    return grid1,value\n",
    "\n",
    "# b. grid points and value\n",
    "grid1,value = grids_points_and_value(Nx1)\n",
    "\n",
    "# c. scipy\n",
    "yi_scipy_interp = RegularGridInterpolator([grid1], value, \n",
    "                                          method='linear',bounds_error=False,fill_value=None)"
   ]
  },
  {
   "cell_type": "markdown",
   "id": "0726c356",
   "metadata": {
    "papermill": {
     "duration": 0.009006,
     "end_time": "2023-07-14T00:01:47.103709",
     "exception": false,
     "start_time": "2023-07-14T00:01:47.094703",
     "status": "completed"
    },
    "tags": []
   },
   "source": [
    "#### 4.1.2. <a id='toc4_1_2_'></a>[Tests](#toc0_)"
   ]
  },
  {
   "cell_type": "code",
   "execution_count": 15,
   "id": "4ee44b14",
   "metadata": {
    "execution": {
     "iopub.execute_input": "2023-07-14T00:01:47.121680Z",
     "iopub.status.busy": "2023-07-14T00:01:47.120680Z",
     "iopub.status.idle": "2023-07-14T00:01:47.323848Z",
     "shell.execute_reply": "2023-07-14T00:01:47.322846Z"
    },
    "papermill": {
     "duration": 0.215133,
     "end_time": "2023-07-14T00:01:47.326850",
     "exception": false,
     "start_time": "2023-07-14T00:01:47.111717",
     "status": "completed"
    },
    "tags": []
   },
   "outputs": [
    {
     "name": "stdout",
     "output_type": "stream",
     "text": [
      "all is good\n"
     ]
    }
   ],
   "source": [
    "for _ in range(5):\n",
    "    \n",
    "    Nyi = 100\n",
    "    xi1 = np.sort(np.random.uniform(low=0.9*low_x2,high=1.1*high_x2,size=Nyi))\n",
    "    \n",
    "    tic = time.time()\n",
    "    yi_mon_scipy = yi_scipy_interp(xi1)\n",
    "    toc = time.time()\n",
    "    \n",
    "    tic = time.time()\n",
    "    yi = np.empty(Nyi)\n",
    "    linear_interp.interp_1d_vec(grid1,value,xi1,yi)\n",
    "    toc = time.time()\n",
    "    assert np.allclose(yi_mon_scipy,yi)\n",
    "        \n",
    "    tic = time.time()\n",
    "    yi = np.empty(Nyi)\n",
    "    prep = linear_interp.interp_1d_prep(Nyi)\n",
    "    linear_interp.interp_1d_vec_mon(prep,grid1,value,xi1,yi)\n",
    "    toc = time.time()\n",
    "    assert np.allclose(yi_mon_scipy,yi)\n",
    "    \n",
    "    tic = time.time()\n",
    "    yi = np.empty(Nyi)\n",
    "    linear_interp.interp_1d_vec_mon_rep(prep,grid1,value,xi1,yi)\n",
    "    toc = time.time()\n",
    "    assert np.allclose(yi_mon_scipy,yi)\n",
    "    \n",
    "    tic = time.time()\n",
    "    yi = np.empty(Nyi)\n",
    "    linear_interp.interp_1d_vec_mon_noprep(grid1,value,xi1,yi)\n",
    "    toc = time.time()\n",
    "    assert np.allclose(yi_mon_scipy,yi)\n",
    "\n",
    "print('all is good')"
   ]
  },
  {
   "cell_type": "markdown",
   "id": "4251fd34",
   "metadata": {
    "papermill": {
     "duration": 0.009008,
     "end_time": "2023-07-14T00:01:47.350870",
     "exception": false,
     "start_time": "2023-07-14T00:01:47.341862",
     "status": "completed"
    },
    "tags": []
   },
   "source": [
    "### 4.2. <a id='toc4_2_'></a>[2D](#toc0_)"
   ]
  },
  {
   "cell_type": "markdown",
   "id": "00875b16",
   "metadata": {
    "papermill": {
     "duration": 0.008007,
     "end_time": "2023-07-14T00:01:47.367884",
     "exception": false,
     "start_time": "2023-07-14T00:01:47.359877",
     "status": "completed"
    },
    "tags": []
   },
   "source": [
    "#### 4.2.1. <a id='toc4_2_1_'></a>[Setup](#toc0_)"
   ]
  },
  {
   "cell_type": "code",
   "execution_count": 16,
   "id": "174df105",
   "metadata": {
    "execution": {
     "iopub.execute_input": "2023-07-14T00:01:47.385899Z",
     "iopub.status.busy": "2023-07-14T00:01:47.385899Z",
     "iopub.status.idle": "2023-07-14T00:01:47.759207Z",
     "shell.execute_reply": "2023-07-14T00:01:47.759207Z"
    },
    "papermill": {
     "duration": 0.387272,
     "end_time": "2023-07-14T00:01:47.763211",
     "exception": false,
     "start_time": "2023-07-14T00:01:47.375939",
     "status": "completed"
    },
    "tags": []
   },
   "outputs": [],
   "source": [
    "# a. functions\n",
    "@njit\n",
    "def f(x1,x2):\n",
    "    return x1**2*x2+x2**2\n",
    "\n",
    "@njit\n",
    "def fill_value(grid1,grid2,value):\n",
    "    for i in range(grid1.size):\n",
    "        for j in range(grid2.size):\n",
    "                value[i,j] = f(grid1[i],grid2[j])    \n",
    "\n",
    "@njit\n",
    "def grids_points_and_value(Nx1,Nx2):\n",
    "\n",
    "    grid1 = np.linspace(low_x1,high_x1,Nx1)\n",
    "    grid2 = np.linspace(low_x2,high_x2,Nx2)\n",
    "\n",
    "    value = np.empty((Nx1,Nx2))\n",
    "    fill_value(grid1,grid2,value)\n",
    "    \n",
    "    return grid1,grid2,value\n",
    "\n",
    "# b. grid points and value\n",
    "grid1,grid2,value = grids_points_and_value(Nx1,Nx2)\n",
    "\n",
    "# c. scipy\n",
    "yi_scipy_interp = RegularGridInterpolator([grid1,grid2], value, \n",
    "                                          method='linear',bounds_error=False,fill_value=None)"
   ]
  },
  {
   "cell_type": "markdown",
   "id": "8ab9eb4a",
   "metadata": {
    "papermill": {
     "duration": 0.009008,
     "end_time": "2023-07-14T00:01:47.788232",
     "exception": false,
     "start_time": "2023-07-14T00:01:47.779224",
     "status": "completed"
    },
    "tags": []
   },
   "source": [
    "#### 4.2.2. <a id='toc4_2_2_'></a>[Tests](#toc0_)"
   ]
  },
  {
   "cell_type": "code",
   "execution_count": 17,
   "id": "3e0e1554",
   "metadata": {
    "execution": {
     "iopub.execute_input": "2023-07-14T00:01:47.806247Z",
     "iopub.status.busy": "2023-07-14T00:01:47.806247Z",
     "iopub.status.idle": "2023-07-14T00:01:48.044443Z",
     "shell.execute_reply": "2023-07-14T00:01:48.044443Z"
    },
    "papermill": {
     "duration": 0.252209,
     "end_time": "2023-07-14T00:01:48.048447",
     "exception": false,
     "start_time": "2023-07-14T00:01:47.796238",
     "status": "completed"
    },
    "tags": []
   },
   "outputs": [
    {
     "name": "stdout",
     "output_type": "stream",
     "text": [
      "all is good\n"
     ]
    }
   ],
   "source": [
    "for _ in range(5):\n",
    "    \n",
    "    Nyi = 10000\n",
    "    xi = np.empty((Nyi,2))\n",
    "    xi1 = np.empty(Nyi)\n",
    "    xi1[:] = np.random.uniform(low=0.9*low_x1,high=1.1*high_x1,size=1)[0]\n",
    "    xi2 = np.random.uniform(low=0.9*low_x2,high=1.1*high_x2,size=Nyi)\n",
    "\n",
    "    xi_mon = np.empty((Nyi,2))\n",
    "    xi_mon[:,0] = xi1\n",
    "    xi_mon[:,1] = xi2_mon = np.sort(xi2)\n",
    "    \n",
    "    tic = time.time()\n",
    "    yi_mon_scipy = yi_scipy_interp(xi_mon)\n",
    "    toc = time.time()\n",
    "    \n",
    "    tic = time.time()\n",
    "    yi = np.empty(Nyi)\n",
    "    linear_interp.interp_2d_vec(grid1,grid2,value,xi1,xi2_mon,yi)\n",
    "    toc = time.time()\n",
    "    assert np.allclose(yi_mon_scipy,yi)\n",
    "    \n",
    "    tic = time.time()\n",
    "    yi = np.empty(Nyi)\n",
    "    prep = linear_interp.interp_2d_prep(grid1,xi1[0],Nyi)\n",
    "    linear_interp.interp_2d_only_last_vec(prep,grid1,grid2,value,xi1[0],xi2_mon,yi)\n",
    "    toc = time.time()\n",
    "    assert np.allclose(yi_mon_scipy,yi)\n",
    "\n",
    "    tic = time.time()\n",
    "    yi = np.empty(Nyi)\n",
    "    prep = linear_interp.interp_2d_prep(grid1,xi1[0],Nyi)\n",
    "    linear_interp.interp_2d_only_last_vec_mon(prep,grid1,grid2,value,xi1[0],xi2_mon,yi)\n",
    "    toc = time.time()\n",
    "    assert np.allclose(yi_mon_scipy,yi)\n",
    "    \n",
    "    tic = time.time()\n",
    "    yi = np.empty(Nyi)\n",
    "    linear_interp.interp_2d_only_last_vec_mon_rep(prep,grid1,grid2,value,xi1[0],xi2_mon,yi)\n",
    "    toc = time.time()\n",
    "    assert np.allclose(yi_mon_scipy,yi)\n",
    "    \n",
    "print('all is good')"
   ]
  }
 ],
 "metadata": {
  "kernelspec": {
   "display_name": "Python 3 (ipykernel)",
   "language": "python",
   "name": "python3"
  },
  "language_info": {
   "codemirror_mode": {
    "name": "ipython",
    "version": 3
   },
   "file_extension": ".py",
   "mimetype": "text/x-python",
   "name": "python",
   "nbconvert_exporter": "python",
   "pygments_lexer": "ipython3",
   "version": "3.11.3"
  },
  "latex_envs": {
   "LaTeX_envs_menu_present": true,
   "autocomplete": true,
   "bibliofile": "biblio.bib",
   "cite_by": "apalike",
   "current_citInitial": 1,
   "eqLabelWithNumbers": true,
   "eqNumInitial": 1,
   "hotkeys": {
    "equation": "Ctrl-E",
    "itemize": "Ctrl-I"
   },
   "labels_anchors": false,
   "latex_user_defs": false,
   "report_style_numbering": false,
   "user_envs_cfg": false
  },
  "papermill": {
   "default_parameters": {},
   "duration": 102.696365,
   "end_time": "2023-07-14T00:01:48.576870",
   "environment_variables": {},
   "exception": null,
   "input_path": "01. Linear interpolation.ipynb",
   "output_path": "temp_notebooks/01. Linear interpolation.ipynb",
   "parameters": {},
   "start_time": "2023-07-14T00:00:05.880505",
   "version": "2.4.0"
  },
  "toc": {
   "base_numbering": 1,
   "nav_menu": {},
   "number_sections": true,
   "sideBar": false,
   "skip_h1_title": false,
   "title_cell": "Table of Contents",
   "title_sidebar": "Contents",
   "toc_cell": true,
   "toc_position": {},
   "toc_section_display": true,
   "toc_window_display": false
  },
  "toc-autonumbering": true,
  "varInspector": {
   "cols": {
    "lenName": 16,
    "lenType": 16,
    "lenVar": 40
   },
   "kernels_config": {
    "python": {
     "delete_cmd_postfix": "",
     "delete_cmd_prefix": "del ",
     "library": "var_list.py",
     "varRefreshCmd": "print(var_dic_list())"
    },
    "r": {
     "delete_cmd_postfix": ") ",
     "delete_cmd_prefix": "rm(",
     "library": "var_list.r",
     "varRefreshCmd": "cat(var_dic_list()) "
    }
   },
   "oldHeight": 267,
   "position": {
    "height": "40px",
    "left": "1542.33px",
    "right": "20px",
    "top": "133px",
    "width": "328px"
   },
   "types_to_exclude": [
    "module",
    "function",
    "builtin_function_or_method",
    "instance",
    "_Feature"
   ],
   "varInspector_section_display": "none",
   "window_display": true
  }
 },
 "nbformat": 4,
 "nbformat_minor": 5
}
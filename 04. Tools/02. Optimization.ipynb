{
 "cells": [
  {
   "cell_type": "markdown",
   "id": "7caecd59",
   "metadata": {},
   "source": [
    "# Optimization"
   ]
  },
  {
   "cell_type": "markdown",
   "id": "5b1dc810",
   "metadata": {},
   "source": [
    "**Table of contents**<a id='toc0_'></a>    \n",
    "- 1. [Setup](#toc1_)    \n",
    "- 2. [Golden Section Search](#toc2_)    \n",
    "- 3. [Newton-Raphson](#toc3_)    \n",
    "- 4. [QuantEcon](#toc4_)    \n",
    "  - 4.1. [nelder-mead](#toc4_1_)    \n",
    "  - 4.2. [brent_max](#toc4_2_)    \n",
    "\n",
    "<!-- vscode-jupyter-toc-config\n",
    "\tnumbering=true\n",
    "\tanchor=true\n",
    "\tflat=false\n",
    "\tminLevel=2\n",
    "\tmaxLevel=6\n",
    "\t/vscode-jupyter-toc-config -->\n",
    "<!-- THIS CELL WILL BE REPLACED ON TOC UPDATE. DO NOT WRITE YOUR TEXT IN THIS CELL -->"
   ]
  },
  {
   "cell_type": "markdown",
   "id": "e2c7baf0",
   "metadata": {
    "papermill": {
     "duration": 0.003953,
     "end_time": "2023-07-14T00:01:52.113366",
     "exception": false,
     "start_time": "2023-07-14T00:01:52.109413",
     "status": "completed"
    },
    "tags": []
   },
   "source": [
    "This notebooks shows how to use the **numerical optimizers** in **consav**."
   ]
  },
  {
   "cell_type": "markdown",
   "id": "5853d896",
   "metadata": {},
   "source": [
    "## 1. <a id='toc1_'></a>[Setup](#toc0_)"
   ]
  },
  {
   "cell_type": "code",
   "execution_count": 1,
   "id": "eecb8d29",
   "metadata": {
    "execution": {
     "iopub.execute_input": "2023-07-14T00:01:52.128420Z",
     "iopub.status.busy": "2023-07-14T00:01:52.128420Z",
     "iopub.status.idle": "2023-07-14T00:01:52.762610Z",
     "shell.execute_reply": "2023-07-14T00:01:52.762610Z"
    },
    "papermill": {
     "duration": 0.643194,
     "end_time": "2023-07-14T00:01:52.766613",
     "exception": false,
     "start_time": "2023-07-14T00:01:52.123419",
     "status": "completed"
    },
    "tags": []
   },
   "outputs": [],
   "source": [
    "%load_ext autoreload\n",
    "%autoreload 2\n",
    "\n",
    "import time\n",
    "from numba import njit\n",
    "import numpy as np"
   ]
  },
  {
   "cell_type": "markdown",
   "id": "9224c214",
   "metadata": {},
   "source": [
    "## 2. <a id='toc2_'></a>[Golden Section Search](#toc0_)"
   ]
  },
  {
   "cell_type": "markdown",
   "id": "4606b511",
   "metadata": {
    "papermill": {
     "duration": 0.004003,
     "end_time": "2023-07-14T00:01:52.789632",
     "exception": false,
     "start_time": "2023-07-14T00:01:52.785629",
     "status": "completed"
    },
    "tags": []
   },
   "source": [
    "The **golden_section_search** module provides a **Numba JIT** compilled one-dimensional **optimizer function** for a user-defined Numba JIT compilled function with abirtrary number of fixed inputs."
   ]
  },
  {
   "cell_type": "code",
   "execution_count": 2,
   "id": "a7e88264",
   "metadata": {
    "execution": {
     "iopub.execute_input": "2023-07-14T00:01:52.798640Z",
     "iopub.status.busy": "2023-07-14T00:01:52.797639Z",
     "iopub.status.idle": "2023-07-14T00:01:53.712644Z",
     "shell.execute_reply": "2023-07-14T00:01:53.712644Z"
    },
    "papermill": {
     "duration": 0.924012,
     "end_time": "2023-07-14T00:01:53.716647",
     "exception": false,
     "start_time": "2023-07-14T00:01:52.792635",
     "status": "completed"
    },
    "tags": []
   },
   "outputs": [
    {
     "name": "stdout",
     "output_type": "stream",
     "text": [
      "result = 1.34582467  with f = -5.7061033\n"
     ]
    }
   ],
   "source": [
    "from consav import golden_section_search\n",
    "\n",
    "# a. target function\n",
    "@njit\n",
    "def f(x,alpha,beta):\n",
    "    return (x-alpha)*x*(x+beta)**2\n",
    "\n",
    "# b. call optimizer\n",
    "low = 0.0\n",
    "high = 4.0\n",
    "tol = 1e-5\n",
    "alpha = 2.0\n",
    "beta = 1.2\n",
    "result = golden_section_search.optimizer(f,low,high,args=(alpha,beta),tol=tol)\n",
    "\n",
    "print(f'result = {result:.8f}  with f = {f(result,alpha,beta):.8}')"
   ]
  },
  {
   "cell_type": "markdown",
   "id": "6c672b6c",
   "metadata": {},
   "source": [
    "## 3. <a id='toc3_'></a>[Newton-Raphson](#toc0_)"
   ]
  },
  {
   "cell_type": "markdown",
   "id": "d386cb7d",
   "metadata": {
    "papermill": {
     "duration": 0.004002,
     "end_time": "2023-07-14T00:01:53.746672",
     "exception": false,
     "start_time": "2023-07-14T00:01:53.742670",
     "status": "completed"
    },
    "tags": []
   },
   "source": [
    "The **newton_raphson** module provides a **Numba JIT** compilled multi-dimensional **optimizer function** for a user-defined Numba JIT compilled function with abirtrary number of fixed inputs."
   ]
  },
  {
   "cell_type": "code",
   "execution_count": 3,
   "id": "1087dbbe",
   "metadata": {
    "execution": {
     "iopub.execute_input": "2023-07-14T00:01:53.756638Z",
     "iopub.status.busy": "2023-07-14T00:01:53.755637Z",
     "iopub.status.idle": "2023-07-14T00:01:57.622865Z",
     "shell.execute_reply": "2023-07-14T00:01:57.621865Z"
    },
    "papermill": {
     "duration": 3.875236,
     "end_time": "2023-07-14T00:01:57.625867",
     "exception": false,
     "start_time": "2023-07-14T00:01:53.750631",
     "status": "completed"
    },
    "tags": []
   },
   "outputs": [
    {
     "name": "stderr",
     "output_type": "stream",
     "text": [
      "c:\\users\\gmf123\\dropbox\\repositories\\consumptionsaving\\consav\\newton_raphson.py:50: NumbaExperimentalFeatureWarning: \u001b[1m\u001b[1mFirst-class function type feature is experimental\u001b[0m\u001b[0m\n",
      "  num_grad(obj,x_min,grad_step,f_min,grad,x_grad,*args)\n",
      "c:\\users\\gmf123\\dropbox\\repositories\\consumptionsaving\\consav\\newton_raphson.py:51: NumbaExperimentalFeatureWarning: \u001b[1m\u001b[1m\u001b[1mFirst-class function type feature is experimental\u001b[0m\u001b[0m\u001b[0m\n",
      "  num_hess(obj,x_min,grad_step,grad,hess,x_grad,x_hess,grad_hess,*args)\n",
      "c:\\users\\gmf123\\dropbox\\repositories\\consumptionsaving\\consav\\newton_raphson.py:51: NumbaExperimentalFeatureWarning: \u001b[1m\u001b[1mFirst-class function type feature is experimental\u001b[0m\u001b[0m\n",
      "  num_hess(obj,x_min,grad_step,grad,hess,x_grad,x_hess,grad_hess,*args)\n",
      "c:\\Users\\gmf123\\AppData\\Local\\anaconda3\\lib\\site-packages\\numba\\core\\utils.py:554: NumbaExperimentalFeatureWarning: \u001b[1mFirst-class function type feature is experimental\u001b[0m\n",
      "  warnings.warn(\"First-class function type feature is experimental\",\n"
     ]
    },
    {
     "name": "stdout",
     "output_type": "stream",
     "text": [
      "result = 1.34581691 with f = -5.7061033\n"
     ]
    }
   ],
   "source": [
    "from consav import newton_raphson\n",
    "\n",
    "# a. target function\n",
    "@njit\n",
    "def f(x,low,high,alpha,beta):        \n",
    "\n",
    "    penalty = 0.0\n",
    "    if x[0] < low:\n",
    "        penalty += 1000*(low-x[0])\n",
    "    elif x[0] > high:\n",
    "        penalty += 1000*(x[0]-high)\n",
    "        \n",
    "    return (x[0]-alpha)*x[0]*(x[0]+beta)**2 + penalty\n",
    "\n",
    "# c. call optimizer\n",
    "alpha = 2.0\n",
    "beta = 1.2\n",
    "low = 0.0\n",
    "high = 4.0\n",
    "guess = np.array([1.3])\n",
    "result = newton_raphson.optimizer(f,guess,args=(low,high,alpha,beta))\n",
    "\n",
    "print(f'result = {result[0]:.8f} with f = {f(result,low,high,alpha,beta):.8}')"
   ]
  },
  {
   "cell_type": "markdown",
   "id": "c82e46fd",
   "metadata": {
    "papermill": {
     "duration": 0.005032,
     "end_time": "2023-07-14T00:01:57.639909",
     "exception": false,
     "start_time": "2023-07-14T00:01:57.634877",
     "status": "completed"
    },
    "tags": []
   },
   "source": [
    "**Note:** It is unresolved why the matrix multiplication raises an performance warning in some versions of numba."
   ]
  },
  {
   "cell_type": "markdown",
   "id": "2c55c086",
   "metadata": {},
   "source": [
    "## 4. <a id='toc4_'></a>[QuantEcon](#toc0_)"
   ]
  },
  {
   "cell_type": "markdown",
   "id": "2b1c5720",
   "metadata": {},
   "source": [
    "### 4.1. <a id='toc4_1_'></a>[nelder-mead](#toc0_)"
   ]
  },
  {
   "cell_type": "code",
   "execution_count": 4,
   "id": "713a27a2",
   "metadata": {},
   "outputs": [],
   "source": [
    "import quantecon as qe"
   ]
  },
  {
   "cell_type": "code",
   "execution_count": 5,
   "id": "6cac4981",
   "metadata": {},
   "outputs": [
    {
     "name": "stdout",
     "output_type": "stream",
     "text": [
      "results(x=array([1.34582214]), fun=5.706103284678152, success=True, nit=14, final_simplex=array([[1.34582214],\n",
      "       [1.34582611]]))\n"
     ]
    }
   ],
   "source": [
    "@njit\n",
    "def g(x,low,high,alpha,beta):\n",
    "    return -f(x,low,high,alpha,beta) # to maximize\n",
    "\n",
    "bounds = np.zeros((1,2))\n",
    "bounds[0,0] = low\n",
    "bounds[0,1] = high\n",
    "results = qe.optimize.nelder_mead(g,guess,bounds=bounds,args=(low,high,alpha,beta))\n",
    "print(results)"
   ]
  },
  {
   "cell_type": "markdown",
   "id": "52da255b",
   "metadata": {},
   "source": [
    "### 4.2. <a id='toc4_2_'></a>[brent_max](#toc0_)"
   ]
  },
  {
   "cell_type": "code",
   "execution_count": 6,
   "id": "ba4782f7",
   "metadata": {},
   "outputs": [
    {
     "name": "stdout",
     "output_type": "stream",
     "text": [
      "result = 1.34582277 with f = 5.7061033\n"
     ]
    }
   ],
   "source": [
    "@njit\n",
    "def g_(x,low,high,alpha,beta):\n",
    "    return g(np.array([x]),low,high,alpha,beta) # to array\n",
    "\n",
    "xf,fval,info = qe.optimize.brent_max(g_,low,high,args=(low,high,alpha,beta))\n",
    "\n",
    "print(f'result = {xf:.8f} with f = {fval:.8}')\n",
    "            "
   ]
  }
 ],
 "metadata": {
  "kernelspec": {
   "display_name": "Python 3 (ipykernel)",
   "language": "python",
   "name": "python3"
  },
  "language_info": {
   "codemirror_mode": {
    "name": "ipython",
    "version": 3
   },
   "file_extension": ".py",
   "mimetype": "text/x-python",
   "name": "python",
   "nbconvert_exporter": "python",
   "pygments_lexer": "ipython3",
   "version": "3.10.11"
  },
  "papermill": {
   "default_parameters": {},
   "duration": 15.96103,
   "end_time": "2023-07-14T00:02:05.619453",
   "environment_variables": {},
   "exception": null,
   "input_path": "02. Optimization.ipynb",
   "output_path": "temp_notebooks/02. Optimization.ipynb",
   "parameters": {},
   "start_time": "2023-07-14T00:01:49.658423",
   "version": "2.4.0"
  },
  "toc": {
   "base_numbering": 1,
   "nav_menu": {},
   "number_sections": true,
   "sideBar": true,
   "skip_h1_title": false,
   "title_cell": "Table of Contents",
   "title_sidebar": "Contents",
   "toc_cell": true,
   "toc_position": {},
   "toc_section_display": true,
   "toc_window_display": false
  },
  "toc-autonumbering": true
 },
 "nbformat": 4,
 "nbformat_minor": 5
}

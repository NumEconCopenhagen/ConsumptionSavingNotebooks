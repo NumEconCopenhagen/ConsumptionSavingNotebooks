{
 "cells": [
  {
   "cell_type": "markdown",
   "id": "febf254b",
   "metadata": {
    "papermill": {
     "duration": 0.01101,
     "end_time": "2023-07-14T00:02:16.338211",
     "exception": false,
     "start_time": "2023-07-14T00:02:16.327201",
     "status": "completed"
    },
    "tags": []
   },
   "source": [
    "# Quadrature"
   ]
  },
  {
   "cell_type": "markdown",
   "id": "db295045",
   "metadata": {
    "papermill": {
     "duration": 0.004993,
     "end_time": "2023-07-14T00:02:16.349212",
     "exception": false,
     "start_time": "2023-07-14T00:02:16.344219",
     "status": "completed"
    },
    "tags": []
   },
   "source": [
    "**Table of contents**<a id='toc0_'></a>    \n",
    "- 1. [Setup](#toc1_)    \n",
    "- 2. [Settings](#toc2_)    \n",
    "- 3. [Normal Gauss-Hermite](#toc3_)    \n",
    "- 4. [Log-normal Gauss-Hermite](#toc4_)    \n",
    "- 5. [Permanent-transitory income process](#toc5_)    \n",
    "\n",
    "<!-- vscode-jupyter-toc-config\n",
    "\tnumbering=true\n",
    "\tanchor=true\n",
    "\tflat=false\n",
    "\tminLevel=2\n",
    "\tmaxLevel=6\n",
    "\t/vscode-jupyter-toc-config -->\n",
    "<!-- THIS CELL WILL BE REPLACED ON TOC UPDATE. DO NOT WRITE YOUR TEXT IN THIS CELL -->"
   ]
  },
  {
   "cell_type": "markdown",
   "id": "645d9489",
   "metadata": {
    "papermill": {
     "duration": 0.003996,
     "end_time": "2023-07-14T00:02:16.357219",
     "exception": false,
     "start_time": "2023-07-14T00:02:16.353223",
     "status": "completed"
    },
    "tags": []
   },
   "source": [
    "This notebook shows how to produce **Gauss-Hermite quadrature nodes and weights** with **consav.quadrature** for:\n",
    "\n",
    "1. A normal variable\n",
    "2. A log-normal variable\n",
    "3. A permanent-transitory income process"
   ]
  },
  {
   "cell_type": "markdown",
   "id": "0517c1a2",
   "metadata": {
    "papermill": {
     "duration": 0.003,
     "end_time": "2023-07-14T00:02:16.364232",
     "exception": false,
     "start_time": "2023-07-14T00:02:16.361232",
     "status": "completed"
    },
    "tags": []
   },
   "source": [
    "**Problem:** Numerical integration by Monte Carlo is **slow**.\n",
    "\n",
    "**Solution:** Use smarter integration formulas on the form\n",
    "\n",
    "$$\n",
    "\\mathbb{E}[g(x)] \\approx \\sum_{i=1}^{n} w_ig(x_i) \n",
    "$$\n",
    "\n",
    "where $(x_i,w_i), \\forall n \\in \\{1,2,\\dots,N\\}$, are called **quadrature nodes and weights** and are provided by some theoretical formula depending on the distribution of $x$.\n",
    "\n",
    "**Wikipedia:** [Gauss-Hermite quadrature](https://en.wikipedia.org/wiki/Gauss%E2%80%93Hermite_quadrature)"
   ]
  },
  {
   "cell_type": "markdown",
   "id": "a8b9aa31",
   "metadata": {
    "papermill": {
     "duration": 0.004004,
     "end_time": "2023-07-14T00:02:16.372239",
     "exception": false,
     "start_time": "2023-07-14T00:02:16.368235",
     "status": "completed"
    },
    "tags": []
   },
   "source": [
    "## 1. <a id='toc1_'></a>[Setup](#toc0_)"
   ]
  },
  {
   "cell_type": "code",
   "execution_count": 1,
   "id": "89d5a60d",
   "metadata": {
    "execution": {
     "iopub.execute_input": "2023-07-14T00:02:16.382240Z",
     "iopub.status.busy": "2023-07-14T00:02:16.382240Z",
     "iopub.status.idle": "2023-07-14T00:02:17.111741Z",
     "shell.execute_reply": "2023-07-14T00:02:17.110693Z"
    },
    "papermill": {
     "duration": 0.738497,
     "end_time": "2023-07-14T00:02:17.114739",
     "exception": false,
     "start_time": "2023-07-14T00:02:16.376242",
     "status": "completed"
    },
    "tags": []
   },
   "outputs": [],
   "source": [
    "%load_ext autoreload\n",
    "%autoreload 2\n",
    "\n",
    "import time\n",
    "import numpy as np\n",
    "\n",
    "import matplotlib.pyplot as plt   \n",
    "colors = plt.rcParams['axes.prop_cycle'].by_key()['color']\n",
    "plt.rcParams.update({\"axes.grid\" : True, \"grid.color\": \"black\", \"grid.alpha\":\"0.25\", \"grid.linestyle\": \"--\"})\n",
    "plt.rcParams.update({'font.size': 14})\n",
    "\n",
    "# load the module\n",
    "from consav import quadrature"
   ]
  },
  {
   "cell_type": "markdown",
   "id": "782d100f",
   "metadata": {
    "papermill": {
     "duration": 0.00805,
     "end_time": "2023-07-14T00:02:17.133754",
     "exception": false,
     "start_time": "2023-07-14T00:02:17.125704",
     "status": "completed"
    },
    "tags": []
   },
   "source": [
    "## 2. <a id='toc2_'></a>[Settings](#toc0_)"
   ]
  },
  {
   "cell_type": "code",
   "execution_count": 2,
   "id": "a10e294b",
   "metadata": {
    "execution": {
     "iopub.execute_input": "2023-07-14T00:02:17.144719Z",
     "iopub.status.busy": "2023-07-14T00:02:17.143718Z",
     "iopub.status.idle": "2023-07-14T00:02:17.213825Z",
     "shell.execute_reply": "2023-07-14T00:02:17.212777Z"
    },
    "papermill": {
     "duration": 0.07811,
     "end_time": "2023-07-14T00:02:17.216826",
     "exception": false,
     "start_time": "2023-07-14T00:02:17.138716",
     "status": "completed"
    },
    "tags": []
   },
   "outputs": [],
   "source": [
    "ns = [2,3,5,7,9,11,13,15]\n",
    "sigmas = [0.10,0.20]\n",
    "mus = [None,0.10,0.50]"
   ]
  },
  {
   "cell_type": "markdown",
   "id": "f41b23e5",
   "metadata": {
    "papermill": {
     "duration": 0.005005,
     "end_time": "2023-07-14T00:02:17.232793",
     "exception": false,
     "start_time": "2023-07-14T00:02:17.227788",
     "status": "completed"
    },
    "tags": []
   },
   "source": [
    "## 3. <a id='toc3_'></a>[Normal Gauss-Hermite](#toc0_)"
   ]
  },
  {
   "cell_type": "code",
   "execution_count": 3,
   "id": "f5b53f78",
   "metadata": {
    "execution": {
     "iopub.execute_input": "2023-07-14T00:02:17.243800Z",
     "iopub.status.busy": "2023-07-14T00:02:17.242799Z",
     "iopub.status.idle": "2023-07-14T00:02:17.319910Z",
     "shell.execute_reply": "2023-07-14T00:02:17.319910Z"
    },
    "papermill": {
     "duration": 0.086113,
     "end_time": "2023-07-14T00:02:17.323911",
     "exception": false,
     "start_time": "2023-07-14T00:02:17.237798",
     "status": "completed"
    },
    "tags": []
   },
   "outputs": [
    {
     "name": "stdout",
     "output_type": "stream",
     "text": [
      "### sigma = 0.10, mu = None ###\n",
      "n =  2: mean =   0.00, std =   0.10\n",
      "n =  3: mean =   0.00, std =   0.10\n",
      "n =  5: mean =   0.00, std =   0.10\n",
      "n =  7: mean =  -0.00, std =   0.10\n",
      "n =  9: mean =  -0.00, std =   0.10\n",
      "n = 11: mean =  -0.00, std =   0.10\n",
      "n = 13: mean =   0.00, std =   0.10\n",
      "n = 15: mean =  -0.00, std =   0.10\n",
      "\n",
      "### sigma = 0.10, mu = 0.10 ###\n",
      "n =  2: mean =   0.10, std =   0.10\n",
      "n =  3: mean =   0.10, std =   0.10\n",
      "n =  5: mean =   0.10, std =   0.10\n",
      "n =  7: mean =   0.10, std =   0.10\n",
      "n =  9: mean =   0.10, std =   0.10\n",
      "n = 11: mean =   0.10, std =   0.10\n",
      "n = 13: mean =   0.10, std =   0.10\n",
      "n = 15: mean =   0.10, std =   0.10\n",
      "\n",
      "### sigma = 0.10, mu = 0.50 ###\n",
      "n =  2: mean =   0.50, std =   0.10\n",
      "n =  3: mean =   0.50, std =   0.10\n",
      "n =  5: mean =   0.50, std =   0.10\n",
      "n =  7: mean =   0.50, std =   0.10\n",
      "n =  9: mean =   0.50, std =   0.10\n",
      "n = 11: mean =   0.50, std =   0.10\n",
      "n = 13: mean =   0.50, std =   0.10\n",
      "n = 15: mean =   0.50, std =   0.10\n",
      "\n",
      "### sigma = 0.20, mu = None ###\n",
      "n =  2: mean =   0.00, std =   0.20\n",
      "n =  3: mean =   0.00, std =   0.20\n",
      "n =  5: mean =   0.00, std =   0.20\n",
      "n =  7: mean =  -0.00, std =   0.20\n",
      "n =  9: mean =  -0.00, std =   0.20\n",
      "n = 11: mean =  -0.00, std =   0.20\n",
      "n = 13: mean =   0.00, std =   0.20\n",
      "n = 15: mean =  -0.00, std =   0.20\n",
      "\n",
      "### sigma = 0.20, mu = 0.10 ###\n",
      "n =  2: mean =   0.10, std =   0.20\n",
      "n =  3: mean =   0.10, std =   0.20\n",
      "n =  5: mean =   0.10, std =   0.20\n",
      "n =  7: mean =   0.10, std =   0.20\n",
      "n =  9: mean =   0.10, std =   0.20\n",
      "n = 11: mean =   0.10, std =   0.20\n",
      "n = 13: mean =   0.10, std =   0.20\n",
      "n = 15: mean =   0.10, std =   0.20\n",
      "\n",
      "### sigma = 0.20, mu = 0.50 ###\n",
      "n =  2: mean =   0.50, std =   0.20\n",
      "n =  3: mean =   0.50, std =   0.20\n",
      "n =  5: mean =   0.50, std =   0.20\n",
      "n =  7: mean =   0.50, std =   0.20\n",
      "n =  9: mean =   0.50, std =   0.20\n",
      "n = 11: mean =   0.50, std =   0.20\n",
      "n = 13: mean =   0.50, std =   0.20\n",
      "n = 15: mean =   0.50, std =   0.20\n",
      "\n"
     ]
    }
   ],
   "source": [
    "for sigma in sigmas:\n",
    "    for mu in mus:\n",
    "        \n",
    "        if mu is None:\n",
    "            print(f'### sigma = {sigma:.2f}, mu = None ###')            \n",
    "        else:\n",
    "            print(f'### sigma = {sigma:.2f}, mu = {mu:.2f} ###')\n",
    "            \n",
    "        for n in ns:\n",
    "            x,w = quadrature.normal_gauss_hermite(n=n,sigma=sigma,mu=mu)\n",
    "            mean = np.sum(x*w)\n",
    "            std = np.sqrt(np.sum(w*(x-mean)**2))\n",
    "            print(f'n = {n:2d}: mean = {mean:6.2f}, std = {std:6.2f}')\n",
    "        \n",
    "        print('')"
   ]
  },
  {
   "cell_type": "markdown",
   "id": "2a22a7d8",
   "metadata": {
    "papermill": {
     "duration": 0.005004,
     "end_time": "2023-07-14T00:02:17.337879",
     "exception": false,
     "start_time": "2023-07-14T00:02:17.332875",
     "status": "completed"
    },
    "tags": []
   },
   "source": [
    "**Illustration:**"
   ]
  },
  {
   "cell_type": "code",
   "execution_count": 4,
   "id": "3caaddfc",
   "metadata": {
    "execution": {
     "iopub.execute_input": "2023-07-14T00:02:17.347886Z",
     "iopub.status.busy": "2023-07-14T00:02:17.347886Z",
     "iopub.status.idle": "2023-07-14T00:02:17.661439Z",
     "shell.execute_reply": "2023-07-14T00:02:17.660438Z"
    },
    "papermill": {
     "duration": 0.322561,
     "end_time": "2023-07-14T00:02:17.665442",
     "exception": false,
     "start_time": "2023-07-14T00:02:17.342881",
     "status": "completed"
    },
    "tags": []
   },
   "outputs": [
    {
     "data": {
      "image/png": "[encoded data removed]",
      "text/plain": [
       "<Figure size 640x480 with 1 Axes>"
      ]
     },
     "metadata": {},
     "output_type": "display_data"
    }
   ],
   "source": [
    "fig = plt.figure()\n",
    "ax = fig.add_subplot(1,1,1)\n",
    "\n",
    "for n in ns[1:]:\n",
    "    x,w = quadrature.normal_gauss_hermite(0.1,n=n)\n",
    "    h = ax.scatter(n*np.ones(n),x,c=w,edgecolor='black')\n",
    "    \n",
    "#fig.colorbar(h);    "
   ]
  },
  {
   "cell_type": "markdown",
   "id": "325ac2f3",
   "metadata": {
    "papermill": {
     "duration": 0.006005,
     "end_time": "2023-07-14T00:02:17.682500",
     "exception": false,
     "start_time": "2023-07-14T00:02:17.676495",
     "status": "completed"
    },
    "tags": []
   },
   "source": [
    "## 4. <a id='toc4_'></a>[Log-normal Gauss-Hermite](#toc0_)"
   ]
  },
  {
   "cell_type": "code",
   "execution_count": 5,
   "id": "408f4a5d",
   "metadata": {
    "execution": {
     "iopub.execute_input": "2023-07-14T00:02:17.694508Z",
     "iopub.status.busy": "2023-07-14T00:02:17.694508Z",
     "iopub.status.idle": "2023-07-14T00:02:17.768527Z",
     "shell.execute_reply": "2023-07-14T00:02:17.768527Z"
    },
    "papermill": {
     "duration": 0.085019,
     "end_time": "2023-07-14T00:02:17.772530",
     "exception": false,
     "start_time": "2023-07-14T00:02:17.687511",
     "status": "completed"
    },
    "tags": []
   },
   "outputs": [
    {
     "name": "stdout",
     "output_type": "stream",
     "text": [
      "### sigma = 0.10, mu = None ###\n",
      "n =  2: mean =   1.00, std. of log =   0.10\n",
      "n =  3: mean =   1.00, std. of log =   0.10\n",
      "n =  5: mean =   1.00, std. of log =   0.10\n",
      "n =  7: mean =   1.00, std. of log =   0.10\n",
      "n =  9: mean =   1.00, std. of log =   0.10\n",
      "n = 11: mean =   1.00, std. of log =   0.10\n",
      "n = 13: mean =   1.00, std. of log =   0.10\n",
      "n = 15: mean =   1.00, std. of log =   0.10\n",
      "\n",
      "### sigma = 0.10, mu = 0.10 ###\n",
      "n =  2: mean =   0.10, std. of log =   0.10\n",
      "n =  3: mean =   0.10, std. of log =   0.10\n",
      "n =  5: mean =   0.10, std. of log =   0.10\n",
      "n =  7: mean =   0.10, std. of log =   0.10\n",
      "n =  9: mean =   0.10, std. of log =   0.10\n",
      "n = 11: mean =   0.10, std. of log =   0.10\n",
      "n = 13: mean =   0.10, std. of log =   0.10\n",
      "n = 15: mean =   0.10, std. of log =   0.10\n",
      "\n",
      "### sigma = 0.10, mu = 0.50 ###\n",
      "n =  2: mean =   0.50, std. of log =   0.10\n",
      "n =  3: mean =   0.50, std. of log =   0.10\n",
      "n =  5: mean =   0.50, std. of log =   0.10\n",
      "n =  7: mean =   0.50, std. of log =   0.10\n",
      "n =  9: mean =   0.50, std. of log =   0.10\n",
      "n = 11: mean =   0.50, std. of log =   0.10\n",
      "n = 13: mean =   0.50, std. of log =   0.10\n",
      "n = 15: mean =   0.50, std. of log =   0.10\n",
      "\n",
      "### sigma = 0.20, mu = None ###\n",
      "n =  2: mean =   1.00, std. of log =   0.20\n",
      "n =  3: mean =   1.00, std. of log =   0.20\n",
      "n =  5: mean =   1.00, std. of log =   0.20\n",
      "n =  7: mean =   1.00, std. of log =   0.20\n",
      "n =  9: mean =   1.00, std. of log =   0.20\n",
      "n = 11: mean =   1.00, std. of log =   0.20\n",
      "n = 13: mean =   1.00, std. of log =   0.20\n",
      "n = 15: mean =   1.00, std. of log =   0.20\n",
      "\n",
      "### sigma = 0.20, mu = 0.10 ###\n",
      "n =  2: mean =   0.10, std. of log =   0.20\n",
      "n =  3: mean =   0.10, std. of log =   0.20\n",
      "n =  5: mean =   0.10, std. of log =   0.20\n",
      "n =  7: mean =   0.10, std. of log =   0.20\n",
      "n =  9: mean =   0.10, std. of log =   0.20\n",
      "n = 11: mean =   0.10, std. of log =   0.20\n",
      "n = 13: mean =   0.10, std. of log =   0.20\n",
      "n = 15: mean =   0.10, std. of log =   0.20\n",
      "\n",
      "### sigma = 0.20, mu = 0.50 ###\n",
      "n =  2: mean =   0.50, std. of log =   0.20\n",
      "n =  3: mean =   0.50, std. of log =   0.20\n",
      "n =  5: mean =   0.50, std. of log =   0.20\n",
      "n =  7: mean =   0.50, std. of log =   0.20\n",
      "n =  9: mean =   0.50, std. of log =   0.20\n",
      "n = 11: mean =   0.50, std. of log =   0.20\n",
      "n = 13: mean =   0.50, std. of log =   0.20\n",
      "n = 15: mean =   0.50, std. of log =   0.20\n",
      "\n"
     ]
    }
   ],
   "source": [
    "for sigma in sigmas:\n",
    "    for mu in mus:\n",
    "        \n",
    "        if mu is None:\n",
    "            print(f'### sigma = {sigma:.2f}, mu = None ###')            \n",
    "        else:\n",
    "            print(f'### sigma = {sigma:.2f}, mu = {mu:.2f} ###')\n",
    "            \n",
    "        for n in ns:\n",
    "            x,w = quadrature.log_normal_gauss_hermite(n=n,sigma=sigma,mu=mu)\n",
    "            mean = np.sum(x*w)\n",
    "            std_log = np.sqrt(np.sum(w*(np.log(x)-np.log(mean))**2))\n",
    "            print(f'n = {n:2d}: mean = {mean:6.2f}, std. of log = {std_log:6.2f}')\n",
    "        \n",
    "        print('')"
   ]
  },
  {
   "cell_type": "markdown",
   "id": "383f6f69",
   "metadata": {
    "papermill": {
     "duration": 0.006003,
     "end_time": "2023-07-14T00:02:17.789586",
     "exception": false,
     "start_time": "2023-07-14T00:02:17.783583",
     "status": "completed"
    },
    "tags": []
   },
   "source": [
    "**Illustration:**"
   ]
  },
  {
   "cell_type": "code",
   "execution_count": 6,
   "id": "d9a3aadf",
   "metadata": {
    "execution": {
     "iopub.execute_input": "2023-07-14T00:02:17.800597Z",
     "iopub.status.busy": "2023-07-14T00:02:17.800597Z",
     "iopub.status.idle": "2023-07-14T00:02:18.050452Z",
     "shell.execute_reply": "2023-07-14T00:02:18.050452Z"
    },
    "papermill": {
     "duration": 0.261867,
     "end_time": "2023-07-14T00:02:18.056458",
     "exception": false,
     "start_time": "2023-07-14T00:02:17.794591",
     "status": "completed"
    },
    "tags": []
   },
   "outputs": [
    {
     "data": {
      "image/png": "[encoded data removed]",
      "text/plain": [
       "<Figure size 640x480 with 1 Axes>"
      ]
     },
     "metadata": {},
     "output_type": "display_data"
    }
   ],
   "source": [
    "fig = plt.figure()\n",
    "ax = fig.add_subplot(1,1,1)\n",
    "\n",
    "for n in ns[1:]:\n",
    "    x,w = quadrature.log_normal_gauss_hermite(0.1,n=n)\n",
    "    h = ax.scatter(n*np.ones(n),x,c=w,edgecolor='black')\n",
    "    \n",
    "#fig.colorbar(h);    "
   ]
  },
  {
   "cell_type": "markdown",
   "id": "a7f605a7",
   "metadata": {
    "papermill": {
     "duration": 0.005938,
     "end_time": "2023-07-14T00:02:18.073428",
     "exception": false,
     "start_time": "2023-07-14T00:02:18.067490",
     "status": "completed"
    },
    "tags": []
   },
   "source": [
    "## 5. <a id='toc5_'></a>[Permanent-transitory income process](#toc0_)"
   ]
  },
  {
   "cell_type": "markdown",
   "id": "86b4ca65",
   "metadata": {
    "papermill": {
     "duration": 0.005004,
     "end_time": "2023-07-14T00:02:18.084438",
     "exception": false,
     "start_time": "2023-07-14T00:02:18.079434",
     "status": "completed"
    },
    "tags": []
   },
   "source": [
    "We consider the following specification:\n",
    "\n",
    "$$ \n",
    "\\begin{aligned}\n",
    "y_{t} &=\\xi_{t} p_{t} \\\\\n",
    "p_{t} &=\\psi_{t} p_{t-1} \\\\\n",
    "\\tilde{\\xi}_{t+1} &= \\begin{cases}\n",
    "\\mu & \\text{with prob.}\\pi\\\\\n",
    "\\frac{\\xi_{t+1}-\\pi\\mu}{1-\\pi} & \\text{else}\n",
    "\\end{cases} \\\\\n",
    "\\end{aligned}\n",
    "$$\n",
    "\n",
    "where\n",
    "\n",
    "$$ \\begin{aligned}\n",
    "\\log\\psi_{t+1} &\\sim \\mathcal{N}(-0.5\\sigma_{\\psi}^{2},\\sigma_{\\psi}^{2}) \\\\\n",
    "\\log\\xi_{t+1} &\\sim \\mathcal{N}(-0.5\\sigma_{\\xi}^{2},\\sigma_{\\xi}^{2})\n",
    "\\end{aligned}\n",
    "$$"
   ]
  },
  {
   "cell_type": "code",
   "execution_count": 7,
   "id": "1cc77644",
   "metadata": {
    "execution": {
     "iopub.execute_input": "2023-07-14T00:02:18.097449Z",
     "iopub.status.busy": "2023-07-14T00:02:18.097449Z",
     "iopub.status.idle": "2023-07-14T00:02:18.174556Z",
     "shell.execute_reply": "2023-07-14T00:02:18.173554Z"
    },
    "papermill": {
     "duration": 0.087115,
     "end_time": "2023-07-14T00:02:18.177558",
     "exception": false,
     "start_time": "2023-07-14T00:02:18.090443",
     "status": "completed"
    },
    "tags": []
   },
   "outputs": [
    {
     "name": "stdout",
     "output_type": "stream",
     "text": [
      "### pi = 0.000 ###\n",
      "psi = 0.75, xi = 0.69, psi_w = 0.01, xi_w = 0.17\n",
      "psi = 0.75, xi = 0.98, psi_w = 0.01, xi_w = 0.67\n",
      "psi = 0.75, xi = 1.39, psi_w = 0.01, xi_w = 0.17\n",
      "psi = 0.87, xi = 0.69, psi_w = 0.22, xi_w = 0.17\n",
      "psi = 0.87, xi = 0.98, psi_w = 0.22, xi_w = 0.67\n",
      "psi = 0.87, xi = 1.39, psi_w = 0.22, xi_w = 0.17\n",
      "psi = 1.00, xi = 0.69, psi_w = 0.53, xi_w = 0.17\n",
      "psi = 1.00, xi = 0.98, psi_w = 0.53, xi_w = 0.67\n",
      "psi = 1.00, xi = 1.39, psi_w = 0.53, xi_w = 0.17\n",
      "psi = 1.14, xi = 0.69, psi_w = 0.22, xi_w = 0.17\n",
      "psi = 1.14, xi = 0.98, psi_w = 0.22, xi_w = 0.67\n",
      "psi = 1.14, xi = 1.39, psi_w = 0.22, xi_w = 0.17\n",
      "psi = 1.32, xi = 0.69, psi_w = 0.01, xi_w = 0.17\n",
      "psi = 1.32, xi = 0.98, psi_w = 0.01, xi_w = 0.67\n",
      "psi = 1.32, xi = 1.39, psi_w = 0.01, xi_w = 0.17\n",
      "\n",
      "mean of psi = 1.000, std. of log of psi = 0.100\n",
      "mean of xi  = 1.000, std. of log of xi  = 0.201\n",
      "\n",
      "### pi = 0.010 ###\n",
      "psi = 0.75, xi = 0.30, psi_w = 0.01, xi_w = 0.01\n",
      "psi = 0.75, xi = 0.70, psi_w = 0.01, xi_w = 0.16\n",
      "psi = 0.75, xi = 0.99, psi_w = 0.01, xi_w = 0.66\n",
      "psi = 0.75, xi = 1.40, psi_w = 0.01, xi_w = 0.17\n",
      "psi = 0.87, xi = 0.30, psi_w = 0.22, xi_w = 0.01\n",
      "psi = 0.87, xi = 0.70, psi_w = 0.22, xi_w = 0.16\n",
      "psi = 0.87, xi = 0.99, psi_w = 0.22, xi_w = 0.66\n",
      "psi = 0.87, xi = 1.40, psi_w = 0.22, xi_w = 0.17\n",
      "psi = 1.00, xi = 0.30, psi_w = 0.53, xi_w = 0.01\n",
      "psi = 1.00, xi = 0.70, psi_w = 0.53, xi_w = 0.16\n",
      "psi = 1.00, xi = 0.99, psi_w = 0.53, xi_w = 0.66\n",
      "psi = 1.00, xi = 1.40, psi_w = 0.53, xi_w = 0.17\n",
      "psi = 1.14, xi = 0.30, psi_w = 0.22, xi_w = 0.01\n",
      "psi = 1.14, xi = 0.70, psi_w = 0.22, xi_w = 0.16\n",
      "psi = 1.14, xi = 0.99, psi_w = 0.22, xi_w = 0.66\n",
      "psi = 1.14, xi = 1.40, psi_w = 0.22, xi_w = 0.17\n",
      "psi = 1.32, xi = 0.30, psi_w = 0.01, xi_w = 0.01\n",
      "psi = 1.32, xi = 0.70, psi_w = 0.01, xi_w = 0.16\n",
      "psi = 1.32, xi = 0.99, psi_w = 0.01, xi_w = 0.66\n",
      "psi = 1.32, xi = 1.40, psi_w = 0.01, xi_w = 0.17\n",
      "\n",
      "mean of psi = 1.000, std. of log of psi = 0.100\n",
      "mean of xi  = 1.000, std. of log of xi  = 0.233\n",
      "\n"
     ]
    }
   ],
   "source": [
    "# a. parameters    \n",
    "sigma_psi = 0.1\n",
    "Npsi = 5 # number of nodes\n",
    "sigma_xi = 0.2\n",
    "Nxi = 3 # number of nodes\n",
    "mu = 0.3\n",
    "    \n",
    "# b. print\n",
    "for pi in [0.0,0.01]:\n",
    "    \n",
    "    print(f'### pi = {pi:.3f} ###')\n",
    "    \n",
    "    # i. build\n",
    "    psi,psi_w,xi,xi_w,Nshocks = quadrature.create_PT_shocks(sigma_psi,Npsi,sigma_xi,Nxi,pi,mu)\n",
    "    \n",
    "    # ii. nodes and weights\n",
    "    for i in range(Nshocks):\n",
    "        print(f'psi = {psi[i]:.2f}, xi = {xi[i]:.2f}, psi_w = {psi_w[i]:.2f}, xi_w = {xi_w[i]:.2f}')\n",
    "\n",
    "    print('')\n",
    "    \n",
    "    # iii. mean and std\n",
    "    mean_psi = np.sum(psi_w*xi_w*psi)\n",
    "    std_log_psi = np.sqrt(np.sum(psi_w*xi_w*(np.log(psi)-np.log(mean_psi))**2))\n",
    "    print(f'mean of psi = {mean_psi:.3f}, std. of log of psi = {std_log_psi:.3f}')\n",
    "\n",
    "    mean_xi = np.sum(psi_w*xi_w*xi)\n",
    "    std_log_xi = np.sqrt(np.sum(psi_w*xi_w*(np.log(xi)-np.log(mean_xi))**2))\n",
    "    print(f'mean of xi  = {mean_xi:.3f}, std. of log of xi  = {std_log_xi:.3f}')\n",
    "    \n",
    "    print('')"
   ]
  }
 ],
 "metadata": {
  "kernelspec": {
   "display_name": "Python 3 (ipykernel)",
   "language": "python",
   "name": "python3"
  },
  "language_info": {
   "codemirror_mode": {
    "name": "ipython",
    "version": 3
   },
   "file_extension": ".py",
   "mimetype": "text/x-python",
   "name": "python",
   "nbconvert_exporter": "python",
   "pygments_lexer": "ipython3",
   "version": "3.11.3"
  },
  "papermill": {
   "default_parameters": {},
   "duration": 4.789805,
   "end_time": "2023-07-14T00:02:18.506951",
   "environment_variables": {},
   "exception": null,
   "input_path": "04. Quadrature.ipynb",
   "output_path": "temp_notebooks/04. Quadrature.ipynb",
   "parameters": {},
   "start_time": "2023-07-14T00:02:13.717146",
   "version": "2.4.0"
  }
 },
 "nbformat": 4,
 "nbformat_minor": 5
}
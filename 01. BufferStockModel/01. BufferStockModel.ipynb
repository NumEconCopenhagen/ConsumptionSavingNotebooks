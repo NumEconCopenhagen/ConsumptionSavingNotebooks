{
 "cells": [
  {
   "cell_type": "markdown",
   "id": "03e19df1",
   "metadata": {
    "papermill": {
     "duration": 0.016014,
     "end_time": "2023-07-13T16:24:00.172783",
     "exception": false,
     "start_time": "2023-07-13T16:24:00.156769",
     "status": "completed"
    },
    "tags": []
   },
   "source": [
    "# Buffer Stock Model"
   ]
  },
  {
   "cell_type": "markdown",
   "id": "aae3e312",
   "metadata": {
    "papermill": {
     "duration": 0.007006,
     "end_time": "2023-07-13T16:24:00.187796",
     "exception": false,
     "start_time": "2023-07-13T16:24:00.180790",
     "status": "completed"
    },
    "tags": []
   },
   "source": [
    "**Table of contents**<a id='toc0_'></a>    \n",
    "- 1. [Model equations](#toc1_)    \n",
    "- 2. [Overview](#toc2_)    \n",
    "- 3. [Setup](#toc3_)    \n",
    "- 4. [First Example](#toc4_)    \n",
    "  - 4.1. [Load/save](#toc4_1_)    \n",
    "- 5. [Timings](#toc5_)    \n",
    "- 6. [Test Parallelization](#toc6_)    \n",
    "\n",
    "<!-- vscode-jupyter-toc-config\n",
    "\tnumbering=true\n",
    "\tanchor=true\n",
    "\tflat=false\n",
    "\tminLevel=2\n",
    "\tmaxLevel=6\n",
    "\t/vscode-jupyter-toc-config -->\n",
    "<!-- THIS CELL WILL BE REPLACED ON TOC UPDATE. DO NOT WRITE YOUR TEXT IN THIS CELL -->"
   ]
  },
  {
   "cell_type": "markdown",
   "id": "eb1eb155",
   "metadata": {
    "cell_style": "split",
    "papermill": {
     "duration": 0.006002,
     "end_time": "2023-07-13T16:24:00.199805",
     "exception": false,
     "start_time": "2023-07-13T16:24:00.193803",
     "status": "completed"
    },
    "tags": []
   },
   "source": [
    "This notebooks shows you how to use the tools of the **consav** package to solve the canonical **buffer-stock consumption model** with either\n",
    "\n",
    "1. **vfi**: standard value function iteration\n",
    "2. **nvfi**: nested value function iteration\n",
    "3. **egm**: endogenous grid point method\n",
    "\n",
    "In all cases, each time step is solved using fully [Numba](http://numba.pydata.org/) just-in-time compilled code. Numba automatically convert Python and NumPy code into fast machine code. Specifically, this is done for all functions preceded (decorated) with ``@njit`` or ``@njit(parallel=True)`` when parallization is used.\n",
    "\n",
    "**Extra:** See `02. Calling C++.ipynb` for solving the model using C++."
   ]
  },
  {
   "cell_type": "markdown",
   "id": "8f70204d",
   "metadata": {
    "papermill": {
     "duration": 0.006006,
     "end_time": "2023-07-13T16:24:00.211823",
     "exception": false,
     "start_time": "2023-07-13T16:24:00.205817",
     "status": "completed"
    },
    "tags": []
   },
   "source": [
    "## 1. <a id='toc1_'></a>[Model equations](#toc0_)"
   ]
  },
  {
   "cell_type": "markdown",
   "id": "05615871",
   "metadata": {
    "cell_style": "split",
    "papermill": {
     "duration": 0.005004,
     "end_time": "2023-07-13T16:24:00.222828",
     "exception": false,
     "start_time": "2023-07-13T16:24:00.217824",
     "status": "completed"
    },
    "tags": []
   },
   "source": [
    "The model's **bellman equation** is given by\n",
    "\n",
    "$$ \n",
    "\\begin{aligned}\n",
    "v_{t}(p_{t},m_{t}) &= \\max_{c_t}\\frac{c^{1-\\rho}}{1-\\rho} + \\beta v_{t+1}(p_{t+1},m_{t+1}) \\\\\n",
    "& \\text{s.t.} \\\\ \n",
    "a_{t} &=m_{t}-c_{t} \\\\\n",
    "p_{t+1} &=\\psi_{t+1} p_{t} \\\\\n",
    "\\tilde{\\xi}_{t+1} &= \\begin{cases}\n",
    "\\mu & \\text{with prob.}\\pi\\\\\n",
    "\\frac{\\xi_{t+1}-\\pi\\mu}{1-\\pi} & \\text{else}\n",
    "\\end{cases} \\\\\n",
    "m_{t+1} &= R a_{t} + \\tilde{\\xi}_{t+1}p_{t+1}\\\\\n",
    "a_t&\\geq 0\\\\\n",
    "\\end{aligned}\n",
    "$$\n",
    "\n",
    "where\n",
    "\n",
    "$$ \\begin{aligned}\n",
    "\\log\\psi_{t+1} &\\sim \\mathcal{N}(-0.5\\sigma_{\\psi}^{2},\\sigma_{\\psi}^{2}) \\\\\n",
    "\\log\\xi_{t+1} &\\sim \\mathcal{N}(-0.5\\sigma_{\\xi}^{2},\\sigma_{\\xi}^{2})\n",
    "\\end{aligned}\n",
    "$$\n",
    "\n",
    "In the **last period** there is no continuation value\n",
    "\n",
    "$$ \n",
    "\\begin{aligned}\n",
    "v_{T+1}(m_{T+1},p_{t+1}) &= 0\n",
    "\\end{aligned}\n",
    "$$\n",
    "\n",
    "The **post-decision** value function is\n",
    "\n",
    "$$\n",
    "\\begin{aligned}\n",
    "w_t(p_t,a_t) &= \\beta v_{t+1}(m_{t+1},p_{t+1})\n",
    "\\end{aligned} \n",
    "$$\n",
    "\n",
    "The **Euler-equation** (required when solving with EGM) is \n",
    "\n",
    "$$ \n",
    "\\begin{aligned}\n",
    "C_{t}^{-\\rho} &= q_t(p_t,a_t) \\\\\n",
    " &= \\beta R \\mathbb{E}_t[C_{t+1}(p_{t+1},m_{t+1})^{-\\rho}] \n",
    "\\end{aligned}\n",
    "$$\n",
    "\n",
    "where $q_t(p_t,a_t)$ is the post-decision marginal value of cash."
   ]
  },
  {
   "cell_type": "markdown",
   "id": "74e38914",
   "metadata": {
    "papermill": {
     "duration": 0.006006,
     "end_time": "2023-07-13T16:24:00.234835",
     "exception": false,
     "start_time": "2023-07-13T16:24:00.228829",
     "status": "completed"
    },
    "tags": []
   },
   "source": [
    "## 2. <a id='toc2_'></a>[Overview](#toc0_)"
   ]
  },
  {
   "cell_type": "markdown",
   "id": "9a962fc7",
   "metadata": {
    "papermill": {
     "duration": 0.006007,
     "end_time": "2023-07-13T16:24:00.246848",
     "exception": false,
     "start_time": "2023-07-13T16:24:00.240841",
     "status": "completed"
    },
    "tags": []
   },
   "source": [
    "The model solved in this notebook is written in **BufferStockModel.py**. \n",
    "\n",
    "It provides a class called **BufferStockModelClass** inheriting its basic interface from the **ModelClass** (from **consav**). "
   ]
  },
  {
   "cell_type": "markdown",
   "id": "d3b503d7",
   "metadata": {
    "papermill": {
     "duration": 0.006003,
     "end_time": "2023-07-13T16:24:00.258857",
     "exception": false,
     "start_time": "2023-07-13T16:24:00.252854",
     "status": "completed"
    },
    "tags": []
   },
   "source": [
    "A short **overview** of the interface is:\n",
    "\n",
    "1. The class must have a **name** and must contain **three central methods**: \n",
    "\n",
    "    1. `settings()` Choose fundamental settings (called *first* when initializing).<br/><br/>\n",
    "    \n",
    "        1. `namespaces (list of str)`: In addition to `.par`, `.sol`, `.sim`, each element will be available as an attribute (can be used in numba jitted functions).\n",
    "        2. `other_attrs (list of str)`: Other attributes to be saved (can *not* be used in numba jitted functions).\n",
    "        3. `savefolder (str)`: Folder to save the model in.\n",
    "        4. `not_float list of str)`: List of non-float elements in the namespaces (ensures safe type inference).<br><br>\n",
    "    \n",
    "    2. `setup()`: Set baseline parameters (called *second* when initializing).\n",
    "    3. `allocate()`: Create grids and allocate solution and simulation memory (called *third* when initializing).<br/><br/>\n",
    "2. **Type-inference:** When initializing the model the `settings()`, `setup()` and `allocate()` methods are called, and the types of all variables in the namespaces are inferred. Results can be seen by `print(model)`. *Types and number of dimensions in arrays must not change afterwards.* \n",
    "3. The **solve()** method solves the model\n",
    "4. The **simulate()** method simulates the model\n",
    "5. The **save()** method saves the model naming it **savefolder/name**\n",
    "6. The **copy()** makes a deep copy of the model"
   ]
  },
  {
   "cell_type": "markdown",
   "id": "3ba5dca1",
   "metadata": {
    "papermill": {
     "duration": 0.006004,
     "end_time": "2023-07-13T16:24:00.270871",
     "exception": false,
     "start_time": "2023-07-13T16:24:00.264867",
     "status": "completed"
    },
    "tags": []
   },
   "source": [
    "In addition to **BufferStockModel.py**, this folder contains the following files:\n",
    "\n",
    "1. **last_period.py**: calculate consumption and value function in last period\n",
    "2. **utility.py**: utility function and marginal utility function\n",
    "3. **post_decision.py**: calcualte $w$ and $q$\n",
    "4. **vfi.py**: solve with value function iteration\n",
    "5. **nvfi.py**: solve with nested value function iteration\n",
    "6. **egm.py**: solve with the endogenous grid method\n",
    "7. **simulate.py**: simulate for all solution methods\n",
    "8. **figs.py**: plot figures\n",
    "\n",
    "The functions in these modules are loaded in **BufferStockModel.py**.\n",
    "\n",
    "The folder **cppfuncs** contains C++ functions not used in this notebook."
   ]
  },
  {
   "cell_type": "markdown",
   "id": "4b9f5b92",
   "metadata": {
    "papermill": {
     "duration": 0.005005,
     "end_time": "2023-07-13T16:24:00.281879",
     "exception": false,
     "start_time": "2023-07-13T16:24:00.276874",
     "status": "completed"
    },
    "tags": []
   },
   "source": [
    "## 3. <a id='toc3_'></a>[Setup](#toc0_)"
   ]
  },
  {
   "cell_type": "code",
   "execution_count": 1,
   "id": "f1bc585c",
   "metadata": {
    "execution": {
     "iopub.execute_input": "2023-07-13T16:24:00.297891Z",
     "iopub.status.busy": "2023-07-13T16:24:00.296847Z",
     "iopub.status.idle": "2023-07-13T16:24:06.658798Z",
     "shell.execute_reply": "2023-07-13T16:24:06.658798Z"
    },
    "papermill": {
     "duration": 6.373963,
     "end_time": "2023-07-13T16:24:06.662845",
     "exception": false,
     "start_time": "2023-07-13T16:24:00.288882",
     "status": "completed"
    },
    "tags": []
   },
   "outputs": [],
   "source": [
    "%load_ext autoreload\n",
    "%autoreload 2\n",
    "\n",
    "import time\n",
    "import numpy as np\n",
    "import numba as nb\n",
    "\n",
    "# load the BufferStockModel module\n",
    "from BufferStockModel import BufferStockModelClass\n",
    "\n",
    "# for timing\n",
    "from consav.misc import elapsed"
   ]
  },
  {
   "cell_type": "code",
   "execution_count": 2,
   "id": "4623d2f8",
   "metadata": {
    "execution": {
     "iopub.execute_input": "2023-07-13T16:24:06.684821Z",
     "iopub.status.busy": "2023-07-13T16:24:06.683820Z",
     "iopub.status.idle": "2023-07-13T16:24:06.771942Z",
     "shell.execute_reply": "2023-07-13T16:24:06.770940Z"
    },
    "papermill": {
     "duration": 0.101132,
     "end_time": "2023-07-13T16:24:06.775944",
     "exception": false,
     "start_time": "2023-07-13T16:24:06.674812",
     "status": "completed"
    },
    "tags": []
   },
   "outputs": [],
   "source": [
    "nb.set_num_threads(1) # use a single thread for clarity"
   ]
  },
  {
   "cell_type": "markdown",
   "id": "d070b971",
   "metadata": {
    "papermill": {
     "duration": 0.006962,
     "end_time": "2023-07-13T16:24:06.794914",
     "exception": false,
     "start_time": "2023-07-13T16:24:06.787952",
     "status": "completed"
    },
    "tags": []
   },
   "source": [
    "## 4. <a id='toc4_'></a>[First Example](#toc0_)"
   ]
  },
  {
   "cell_type": "markdown",
   "id": "e95e5cc6",
   "metadata": {
    "papermill": {
     "duration": 0.006005,
     "end_time": "2023-07-13T16:24:06.807925",
     "exception": false,
     "start_time": "2023-07-13T16:24:06.801920",
     "status": "completed"
    },
    "tags": []
   },
   "source": [
    "The code is easiest to understand for **nvfi** and **do_simple_w = True**. The cell below solves the model using these settings. Go through the code this  cell is calling to understand the interface."
   ]
  },
  {
   "cell_type": "code",
   "execution_count": 3,
   "id": "76def51d",
   "metadata": {
    "execution": {
     "iopub.execute_input": "2023-07-13T16:24:06.821937Z",
     "iopub.status.busy": "2023-07-13T16:24:06.821937Z",
     "iopub.status.idle": "2023-07-13T16:24:25.225522Z",
     "shell.execute_reply": "2023-07-13T16:24:25.225522Z"
    },
    "papermill": {
     "duration": 18.415595,
     "end_time": "2023-07-13T16:24:25.229525",
     "exception": false,
     "start_time": "2023-07-13T16:24:06.813930",
     "status": "completed"
    },
    "tags": []
   },
   "outputs": [
    {
     "name": "stdout",
     "output_type": "stream",
     "text": [
      "### print the model ###\n",
      "\n",
      "Modelclass: BufferStockModelClass\n",
      "Name: baseline\n",
      "\n",
      "namespaces: ['par', 'sol', 'sim']\n",
      "other_attrs: []\n",
      "savefolder: saved\n",
      "cpp_filename: cppfuncs/egm.cpp\n",
      "\n",
      "par:\n",
      " solmethod = nvfi [str]\n",
      " T = 5 [int]\n",
      " beta = 0.96 [float]\n",
      " rho = 2.0 [float]\n",
      " R = 1.03 [float]\n",
      " sigma_psi = 0.1 [float]\n",
      " Npsi = 6 [int]\n",
      " sigma_xi = 0.1 [float]\n",
      " Nxi = 6 [int]\n",
      " pi = 0.1 [float]\n",
      " mu = 0.5 [float]\n",
      " Nm = 600 [int]\n",
      " Np = 400 [int]\n",
      " Na = 800 [int]\n",
      " tol = 1e-08 [float]\n",
      " do_print = True [bool]\n",
      " do_simple_w = True [bool]\n",
      " cppthreads = 1 [int]\n",
      " simT = 5 [int]\n",
      " simN = 1000 [int]\n",
      " sim_seed = 1998 [int]\n",
      " grid_m = ndarray[float64] with shape = (600,) [0.0 mb]\n",
      " grid_p = ndarray[float64] with shape = (400,) [0.0 mb]\n",
      " grid_a = ndarray[float64] with shape = (800,) [0.0 mb]\n",
      " psi = ndarray[float64] with shape = (42,) [0.0 mb]\n",
      " psi_w = ndarray[float64] with shape = (42,) [0.0 mb]\n",
      " xi = ndarray[float64] with shape = (42,) [0.0 mb]\n",
      " xi_w = ndarray[float64] with shape = (42,) [0.0 mb]\n",
      " Nshocks = 42 [int]\n",
      " memory: 0.0 mb\n",
      "\n",
      "sol:\n",
      " c = ndarray[float64] with shape = (5, 400, 600) [9.6 mb]\n",
      " v = ndarray[float64] with shape = (5, 400, 600) [9.6 mb]\n",
      " w = ndarray[float64] with shape = (400, 800) [2.6 mb]\n",
      " q = ndarray[float64] with shape = (400, 800) [2.6 mb]\n",
      " memory: 24.3 mb\n",
      "\n",
      "sim:\n",
      " p = ndarray[float64] with shape = (5, 1000) [0.0 mb]\n",
      " m = ndarray[float64] with shape = (5, 1000) [0.0 mb]\n",
      " c = ndarray[float64] with shape = (5, 1000) [0.0 mb]\n",
      " a = ndarray[float64] with shape = (5, 1000) [0.0 mb]\n",
      " psi = ndarray[float64] with shape = (5, 1000) [0.0 mb]\n",
      " xi = ndarray[float64] with shape = (5, 1000) [0.0 mb]\n",
      " memory: 0.2 mb\n",
      "\n",
      "### solve and simulate the model ###\n",
      "\n"
     ]
    },
    {
     "name": "stdout",
     "output_type": "stream",
     "text": [
      " t = 4 solved in 0.9 secs\n"
     ]
    },
    {
     "name": "stdout",
     "output_type": "stream",
     "text": [
      " t = 3 solved in 6.3 secs (w: 2.7 secs)\n"
     ]
    },
    {
     "name": "stdout",
     "output_type": "stream",
     "text": [
      " t = 2 solved in 3.3 secs (w: 1.4 secs)\n"
     ]
    },
    {
     "name": "stdout",
     "output_type": "stream",
     "text": [
      " t = 1 solved in 3.3 secs (w: 1.4 secs)\n"
     ]
    },
    {
     "name": "stdout",
     "output_type": "stream",
     "text": [
      " t = 0 solved in 3.1 secs (w: 1.3 secs)\n",
      "\n"
     ]
    },
    {
     "name": "stdout",
     "output_type": "stream",
     "text": [
      "model simulated in 1.3 secs\n"
     ]
    }
   ],
   "source": [
    "# a. setup \n",
    "model = BufferStockModelClass(name='baseline',par={'solmethod':'nvfi','do_simple_w':True})\n",
    "\n",
    "# name: required\n",
    "# **kwargs: par={}, update parameters in .par AFTER calling .setup\n",
    "\n",
    "# b. print\n",
    "print('### print the model ###')\n",
    "print('')\n",
    "print(model)\n",
    "\n",
    "# c. solve\n",
    "print('### solve and simulate the model ###')\n",
    "print('')\n",
    "model.solve()\n",
    "\n",
    "# d. simulate\n",
    "print('')\n",
    "model.simulate()\n",
    "\n",
    "# e. save\n",
    "model.save()       "
   ]
  },
  {
   "cell_type": "markdown",
   "id": "b05adfff",
   "metadata": {
    "papermill": {
     "duration": 0.007005,
     "end_time": "2023-07-13T16:24:25.249542",
     "exception": false,
     "start_time": "2023-07-13T16:24:25.242537",
     "status": "completed"
    },
    "tags": []
   },
   "source": [
    "### 4.1. <a id='toc4_1_'></a>[Load/save](#toc0_)"
   ]
  },
  {
   "cell_type": "markdown",
   "id": "cd7c31f0",
   "metadata": {
    "papermill": {
     "duration": 0.007006,
     "end_time": "2023-07-13T16:24:25.262552",
     "exception": false,
     "start_time": "2023-07-13T16:24:25.255546",
     "status": "completed"
    },
    "tags": []
   },
   "source": [
    "**Delete** the model:"
   ]
  },
  {
   "cell_type": "code",
   "execution_count": 4,
   "id": "619ea103",
   "metadata": {
    "execution": {
     "iopub.execute_input": "2023-07-13T16:24:25.278567Z",
     "iopub.status.busy": "2023-07-13T16:24:25.277566Z",
     "iopub.status.idle": "2023-07-13T16:24:25.355632Z",
     "shell.execute_reply": "2023-07-13T16:24:25.355632Z"
    },
    "papermill": {
     "duration": 0.091078,
     "end_time": "2023-07-13T16:24:25.359636",
     "exception": false,
     "start_time": "2023-07-13T16:24:25.268558",
     "status": "completed"
    },
    "tags": []
   },
   "outputs": [],
   "source": [
    "del model"
   ]
  },
  {
   "cell_type": "markdown",
   "id": "b2ed72fd",
   "metadata": {
    "papermill": {
     "duration": 0.007006,
     "end_time": "2023-07-13T16:24:25.380653",
     "exception": false,
     "start_time": "2023-07-13T16:24:25.373647",
     "status": "completed"
    },
    "tags": []
   },
   "source": [
    "**Load** the model again:"
   ]
  },
  {
   "cell_type": "code",
   "execution_count": 5,
   "id": "3d0843b5",
   "metadata": {
    "execution": {
     "iopub.execute_input": "2023-07-13T16:24:25.396667Z",
     "iopub.status.busy": "2023-07-13T16:24:25.395667Z",
     "iopub.status.idle": "2023-07-13T16:24:25.570814Z",
     "shell.execute_reply": "2023-07-13T16:24:25.569813Z"
    },
    "papermill": {
     "duration": 0.187159,
     "end_time": "2023-07-13T16:24:25.574818",
     "exception": false,
     "start_time": "2023-07-13T16:24:25.387659",
     "status": "completed"
    },
    "tags": []
   },
   "outputs": [],
   "source": [
    "model_loaded = BufferStockModelClass(name='baseline',load=True)"
   ]
  },
  {
   "cell_type": "markdown",
   "id": "b3cab046",
   "metadata": {
    "papermill": {
     "duration": 0.008006,
     "end_time": "2023-07-13T16:24:25.596836",
     "exception": false,
     "start_time": "2023-07-13T16:24:25.588830",
     "status": "completed"
    },
    "tags": []
   },
   "source": [
    "**Plot** the consumption function in period $t=0$:"
   ]
  },
  {
   "cell_type": "code",
   "execution_count": 6,
   "id": "cf7b5a16",
   "metadata": {
    "execution": {
     "iopub.execute_input": "2023-07-13T16:24:25.612850Z",
     "iopub.status.busy": "2023-07-13T16:24:25.611849Z",
     "iopub.status.idle": "2023-07-13T16:24:26.339509Z",
     "shell.execute_reply": "2023-07-13T16:24:26.339509Z"
    },
    "papermill": {
     "duration": 0.745631,
     "end_time": "2023-07-13T16:24:26.348473",
     "exception": false,
     "start_time": "2023-07-13T16:24:25.602842",
     "status": "completed"
    },
    "tags": []
   },
   "outputs": [
    {
     "data": {
      "image/png": "[encoded data removed]",
      "text/plain": [
       "<Figure size 640x480 with 1 Axes>"
      ]
     },
     "metadata": {},
     "output_type": "display_data"
    }
   ],
   "source": [
    "model_loaded.consumption_function(t=0)"
   ]
  },
  {
   "cell_type": "markdown",
   "id": "a744dd66",
   "metadata": {
    "papermill": {
     "duration": 0.009008,
     "end_time": "2023-07-13T16:24:26.370492",
     "exception": false,
     "start_time": "2023-07-13T16:24:26.361484",
     "status": "completed"
    },
    "tags": []
   },
   "source": [
    "**Copy** the model:"
   ]
  },
  {
   "cell_type": "code",
   "execution_count": 7,
   "id": "4f2d937c",
   "metadata": {
    "execution": {
     "iopub.execute_input": "2023-07-13T16:24:26.390509Z",
     "iopub.status.busy": "2023-07-13T16:24:26.389516Z",
     "iopub.status.idle": "2023-07-13T16:24:26.528626Z",
     "shell.execute_reply": "2023-07-13T16:24:26.528626Z"
    },
    "papermill": {
     "duration": 0.15313,
     "end_time": "2023-07-13T16:24:26.531628",
     "exception": false,
     "start_time": "2023-07-13T16:24:26.378498",
     "status": "completed"
    },
    "tags": []
   },
   "outputs": [
    {
     "name": "stdout",
     "output_type": "stream",
     "text": [
      "baseline_copy\n"
     ]
    }
   ],
   "source": [
    "model_copy = model_loaded.copy() # name can be specified\n",
    "print(model_copy.name)"
   ]
  },
  {
   "cell_type": "markdown",
   "id": "53be8b61",
   "metadata": {
    "papermill": {
     "duration": 0.009008,
     "end_time": "2023-07-13T16:24:26.555649",
     "exception": false,
     "start_time": "2023-07-13T16:24:26.546641",
     "status": "completed"
    },
    "tags": []
   },
   "source": [
    "**Plot** the life-cycle profiles:"
   ]
  },
  {
   "cell_type": "code",
   "execution_count": 8,
   "id": "3d508f25",
   "metadata": {
    "execution": {
     "iopub.execute_input": "2023-07-13T16:24:26.576666Z",
     "iopub.status.busy": "2023-07-13T16:24:26.575665Z",
     "iopub.status.idle": "2023-07-13T16:24:26.865911Z",
     "shell.execute_reply": "2023-07-13T16:24:26.864910Z"
    },
    "papermill": {
     "duration": 0.305258,
     "end_time": "2023-07-13T16:24:26.869914",
     "exception": false,
     "start_time": "2023-07-13T16:24:26.564656",
     "status": "completed"
    },
    "tags": []
   },
   "outputs": [
    {
     "data": {
      "image/png": "[encoded data removed]",
      "text/plain": [
       "<Figure size 640x480 with 1 Axes>"
      ]
     },
     "metadata": {},
     "output_type": "display_data"
    }
   ],
   "source": [
    "model_copy.lifecycle()"
   ]
  },
  {
   "cell_type": "markdown",
   "id": "7487ce93",
   "metadata": {
    "papermill": {
     "duration": 0.009008,
     "end_time": "2023-07-13T16:24:26.893935",
     "exception": false,
     "start_time": "2023-07-13T16:24:26.884927",
     "status": "completed"
    },
    "tags": []
   },
   "source": [
    "**Plot** an interactive version of the consumption function:"
   ]
  },
  {
   "cell_type": "code",
   "execution_count": 9,
   "id": "16e53a6d",
   "metadata": {
    "execution": {
     "iopub.execute_input": "2023-07-13T16:24:26.914953Z",
     "iopub.status.busy": "2023-07-13T16:24:26.913952Z",
     "iopub.status.idle": "2023-07-13T16:24:26.990061Z",
     "shell.execute_reply": "2023-07-13T16:24:26.990061Z"
    },
    "papermill": {
     "duration": 0.091121,
     "end_time": "2023-07-13T16:24:26.994064",
     "exception": false,
     "start_time": "2023-07-13T16:24:26.902943",
     "status": "completed"
    },
    "tags": []
   },
   "outputs": [],
   "source": [
    "#model_loaded.consumption_function_interact()"
   ]
  },
  {
   "cell_type": "markdown",
   "id": "43c93b8e",
   "metadata": {
    "papermill": {
     "duration": 0.010009,
     "end_time": "2023-07-13T16:24:27.021043",
     "exception": false,
     "start_time": "2023-07-13T16:24:27.011034",
     "status": "completed"
    },
    "tags": []
   },
   "source": [
    "## 5. <a id='toc5_'></a>[Timings](#toc0_)"
   ]
  },
  {
   "cell_type": "markdown",
   "id": "6417795b",
   "metadata": {
    "papermill": {
     "duration": 0.009008,
     "end_time": "2023-07-13T16:24:27.039058",
     "exception": false,
     "start_time": "2023-07-13T16:24:27.030050",
     "status": "completed"
    },
    "tags": []
   },
   "source": [
    "**Time** the various solution methods and show the importance of the optimized computation of $q_t(p_t,a_t)$ in EGM (i.e. setting `do_simple_w = False`)."
   ]
  },
  {
   "cell_type": "code",
   "execution_count": 10,
   "id": "99e0abae",
   "metadata": {
    "execution": {
     "iopub.execute_input": "2023-07-13T16:24:27.060076Z",
     "iopub.status.busy": "2023-07-13T16:24:27.059075Z",
     "iopub.status.idle": "2023-07-13T16:24:27.178218Z",
     "shell.execute_reply": "2023-07-13T16:24:27.177218Z"
    },
    "papermill": {
     "duration": 0.133157,
     "end_time": "2023-07-13T16:24:27.181222",
     "exception": false,
     "start_time": "2023-07-13T16:24:27.048065",
     "status": "completed"
    },
    "tags": []
   },
   "outputs": [
    {
     "name": "stdout",
     "output_type": "stream",
     "text": [
      "time to setup: 0.0 secs\n"
     ]
    }
   ],
   "source": [
    "t0 = time.time()\n",
    "model = BufferStockModelClass(name='')\n",
    "print(f'time to setup: {elapsed(t0)}')"
   ]
  },
  {
   "cell_type": "code",
   "execution_count": 11,
   "id": "d0b5c649",
   "metadata": {
    "execution": {
     "iopub.execute_input": "2023-07-13T16:24:27.207200Z",
     "iopub.status.busy": "2023-07-13T16:24:27.207200Z",
     "iopub.status.idle": "2023-07-13T16:30:17.031666Z",
     "shell.execute_reply": "2023-07-13T16:30:17.030665Z"
    },
    "papermill": {
     "duration": 349.855491,
     "end_time": "2023-07-13T16:30:17.051682",
     "exception": false,
     "start_time": "2023-07-13T16:24:27.196191",
     "status": "completed"
    },
    "tags": []
   },
   "outputs": [
    {
     "name": "stdout",
     "output_type": "stream",
     "text": [
      "nvfi (do_simple_w = True)\n"
     ]
    },
    {
     "name": "stdout",
     "output_type": "stream",
     "text": [
      "time in test run: 16.9 secs\n",
      " t = 4 solved in 0.0 secs\n"
     ]
    },
    {
     "name": "stdout",
     "output_type": "stream",
     "text": [
      " t = 3 solved in 3.2 secs (w: 1.3 secs)\n"
     ]
    },
    {
     "name": "stdout",
     "output_type": "stream",
     "text": [
      " t = 2 solved in 3.3 secs (w: 1.4 secs)\n"
     ]
    },
    {
     "name": "stdout",
     "output_type": "stream",
     "text": [
      " t = 1 solved in 3.2 secs (w: 1.3 secs)\n"
     ]
    },
    {
     "name": "stdout",
     "output_type": "stream",
     "text": [
      " t = 0 solved in 3.4 secs (w: 1.3 secs)\n",
      "time in final run: 13.0 secs [checksum: 3.66707468]\n",
      "\n",
      "nvfi (do_simple_w = False)\n"
     ]
    },
    {
     "name": "stdout",
     "output_type": "stream",
     "text": [
      "time in test run: 9.3 secs\n",
      " t = 4 solved in 0.0 secs\n"
     ]
    },
    {
     "name": "stdout",
     "output_type": "stream",
     "text": [
      " t = 3 solved in 2.1 secs (w: 0.2 secs)\n"
     ]
    },
    {
     "name": "stdout",
     "output_type": "stream",
     "text": [
      " t = 2 solved in 2.1 secs (w: 0.2 secs)\n"
     ]
    },
    {
     "name": "stdout",
     "output_type": "stream",
     "text": [
      " t = 1 solved in 2.0 secs (w: 0.2 secs)\n"
     ]
    },
    {
     "name": "stdout",
     "output_type": "stream",
     "text": [
      " t = 0 solved in 2.1 secs (w: 0.2 secs)\n",
      "time in final run: 8.3 secs [checksum: 3.66707468]\n",
      "\n",
      "egm (do_simple_w = True)\n"
     ]
    },
    {
     "name": "stdout",
     "output_type": "stream",
     "text": [
      "time in test run: 9.1 secs\n",
      " t = 4 solved in 0.0 secs\n"
     ]
    },
    {
     "name": "stdout",
     "output_type": "stream",
     "text": [
      " t = 3 solved in 1.8 secs (w: 1.8 secs)\n"
     ]
    },
    {
     "name": "stdout",
     "output_type": "stream",
     "text": [
      " t = 2 solved in 1.8 secs (w: 1.8 secs)\n"
     ]
    },
    {
     "name": "stdout",
     "output_type": "stream",
     "text": [
      " t = 1 solved in 1.8 secs (w: 1.8 secs)\n"
     ]
    },
    {
     "name": "stdout",
     "output_type": "stream",
     "text": [
      " t = 0 solved in 2.0 secs (w: 2.0 secs)\n",
      "time in final run: 7.4 secs [checksum: 3.66696324]\n",
      "\n",
      "egm (do_simple_w = False)\n"
     ]
    },
    {
     "name": "stdout",
     "output_type": "stream",
     "text": [
      "time in test run: 2.9 secs\n",
      " t = 4 solved in 0.0 secs\n"
     ]
    },
    {
     "name": "stdout",
     "output_type": "stream",
     "text": [
      " t = 3 solved in 0.7 secs (w: 0.7 secs)\n"
     ]
    },
    {
     "name": "stdout",
     "output_type": "stream",
     "text": [
      " t = 2 solved in 0.7 secs (w: 0.7 secs)\n"
     ]
    },
    {
     "name": "stdout",
     "output_type": "stream",
     "text": [
      " t = 1 solved in 0.7 secs (w: 0.7 secs)\n"
     ]
    },
    {
     "name": "stdout",
     "output_type": "stream",
     "text": [
      " t = 0 solved in 0.7 secs (w: 0.7 secs)\n",
      "time in final run: 2.8 secs [checksum: 3.66696324]\n",
      "\n",
      "vfi\n"
     ]
    },
    {
     "name": "stdout",
     "output_type": "stream",
     "text": [
      "time in test run: 2.0 mins 22 secs\n",
      " t = 4 solved in 0.0 secs\n"
     ]
    },
    {
     "name": "stdout",
     "output_type": "stream",
     "text": [
      " t = 3 solved in 34.5 secs (w: 0.0 secs)\n"
     ]
    },
    {
     "name": "stdout",
     "output_type": "stream",
     "text": [
      " t = 2 solved in 34.6 secs (w: 0.0 secs)\n"
     ]
    },
    {
     "name": "stdout",
     "output_type": "stream",
     "text": [
      " t = 1 solved in 34.6 secs (w: 0.0 secs)\n"
     ]
    },
    {
     "name": "stdout",
     "output_type": "stream",
     "text": [
      " t = 0 solved in 34.6 secs (w: 0.0 secs)\n",
      "time in final run: 2.0 mins 18 secs [checksum: 3.66707892]\n",
      "\n"
     ]
    }
   ],
   "source": [
    "for solmethod in ['nvfi','egm','vfi']:    \n",
    "    for do_simple_w in [True,False]:\n",
    "        \n",
    "        if solmethod == 'vfi' and do_simple_w: continue # skip this\n",
    "    \n",
    "        print(f'{solmethod}',end='')        \n",
    "        \n",
    "        if not solmethod == 'vfi':\n",
    "            print(f' (do_simple_w = {do_simple_w})')\n",
    "        else:\n",
    "            print('')\n",
    "        \n",
    "        # a. change solution method\n",
    "        model.par.solmethod = solmethod\n",
    "        model.par.do_simple_w = do_simple_w\n",
    "        model.par.do_print = False\n",
    "    \n",
    "        # b. test run \n",
    "        t0 = time.time()\n",
    "        model.solve()\n",
    "        model.par.do_print = True\n",
    "        print(f'time in test run: {elapsed(t0)}')\n",
    "\n",
    "        # c. final run\n",
    "        t0 = time.time()\n",
    "        model.solve()\n",
    "        print(f'time in final run: {elapsed(t0)} [checksum: {model.checksum():.8f}]')\n",
    "        print('')\n",
    "        "
   ]
  },
  {
   "cell_type": "markdown",
   "id": "4b99bd17",
   "metadata": {
    "papermill": {
     "duration": 0.011009,
     "end_time": "2023-07-13T16:30:17.073701",
     "exception": false,
     "start_time": "2023-07-13T16:30:17.062692",
     "status": "completed"
    },
    "tags": []
   },
   "source": [
    "## 6. <a id='toc6_'></a>[Test Parallelization](#toc0_)"
   ]
  },
  {
   "cell_type": "code",
   "execution_count": 12,
   "id": "507db2af",
   "metadata": {
    "execution": {
     "iopub.execute_input": "2023-07-13T16:30:17.097720Z",
     "iopub.status.busy": "2023-07-13T16:30:17.096720Z",
     "iopub.status.idle": "2023-07-13T16:30:17.174828Z",
     "shell.execute_reply": "2023-07-13T16:30:17.174828Z"
    },
    "papermill": {
     "duration": 0.094122,
     "end_time": "2023-07-13T16:30:17.178832",
     "exception": false,
     "start_time": "2023-07-13T16:30:17.084710",
     "status": "completed"
    },
    "tags": []
   },
   "outputs": [],
   "source": [
    "threads_list = [x for x in np.arange(1,nb.config.NUMBA_NUM_THREADS+1) if x in [1,4,8] or x%8 == 0]"
   ]
  },
  {
   "cell_type": "code",
   "execution_count": 13,
   "id": "626b87c5",
   "metadata": {
    "execution": {
     "iopub.execute_input": "2023-07-13T16:30:17.210813Z",
     "iopub.status.busy": "2023-07-13T16:30:17.209812Z",
     "iopub.status.idle": "2023-07-13T16:31:02.347878Z",
     "shell.execute_reply": "2023-07-13T16:31:02.347878Z"
    },
    "papermill": {
     "duration": 45.154079,
     "end_time": "2023-07-13T16:31:02.351881",
     "exception": false,
     "start_time": "2023-07-13T16:30:17.197802",
     "status": "completed"
    },
    "tags": []
   },
   "outputs": [
    {
     "name": "stdout",
     "output_type": "stream",
     "text": [
      "egm (do_simple_w = False) \n"
     ]
    },
    {
     "name": "stdout",
     "output_type": "stream",
     "text": [
      " time to solve with  1 threads: 2.9 secs [checksum: 3.66696324]\n"
     ]
    },
    {
     "name": "stdout",
     "output_type": "stream",
     "text": [
      " time to solve with  4 threads: 2.8 secs [checksum: 3.66696324]\n"
     ]
    },
    {
     "name": "stdout",
     "output_type": "stream",
     "text": [
      " time to solve with  8 threads: 2.8 secs [checksum: 3.66696324]\n"
     ]
    },
    {
     "name": "stdout",
     "output_type": "stream",
     "text": [
      " time to solve with 16 threads: 2.7 secs [checksum: 3.66696324]\n"
     ]
    },
    {
     "name": "stdout",
     "output_type": "stream",
     "text": [
      " time to solve with 24 threads: 2.9 secs [checksum: 3.66696324]\n"
     ]
    },
    {
     "name": "stdout",
     "output_type": "stream",
     "text": [
      " time to solve with 32 threads: 2.9 secs [checksum: 3.66696324]\n"
     ]
    },
    {
     "name": "stdout",
     "output_type": "stream",
     "text": [
      " time to solve with 40 threads: 2.9 secs [checksum: 3.66696324]\n"
     ]
    },
    {
     "name": "stdout",
     "output_type": "stream",
     "text": [
      " time to solve with 48 threads: 3.0 secs [checksum: 3.66696324]\n"
     ]
    },
    {
     "name": "stdout",
     "output_type": "stream",
     "text": [
      " time to solve with 56 threads: 3.0 secs [checksum: 3.66696324]\n"
     ]
    },
    {
     "name": "stdout",
     "output_type": "stream",
     "text": [
      " time to solve with 64 threads: 3.0 secs [checksum: 3.66696324]\n"
     ]
    },
    {
     "name": "stdout",
     "output_type": "stream",
     "text": [
      " time to solve with 72 threads: 3.1 secs [checksum: 3.66696324]\n",
      "\n",
      "egm (do_simple_w = True) \n"
     ]
    },
    {
     "name": "stdout",
     "output_type": "stream",
     "text": [
      " time to solve with  1 threads: 7.5 secs [checksum: 3.66696324]\n"
     ]
    },
    {
     "name": "stdout",
     "output_type": "stream",
     "text": [
      " time to solve with  4 threads: 2.0 secs [checksum: 3.66696324]\n"
     ]
    },
    {
     "name": "stdout",
     "output_type": "stream",
     "text": [
      " time to solve with  8 threads: 1.0 secs [checksum: 3.66696324]\n"
     ]
    },
    {
     "name": "stdout",
     "output_type": "stream",
     "text": [
      " time to solve with 16 threads: 0.5 secs [checksum: 3.66696324]\n"
     ]
    },
    {
     "name": "stdout",
     "output_type": "stream",
     "text": [
      " time to solve with 24 threads: 0.4 secs [checksum: 3.66696324]\n"
     ]
    },
    {
     "name": "stdout",
     "output_type": "stream",
     "text": [
      " time to solve with 32 threads: 0.4 secs [checksum: 3.66696324]\n"
     ]
    },
    {
     "name": "stdout",
     "output_type": "stream",
     "text": [
      " time to solve with 40 threads: 0.3 secs [checksum: 3.66696324]\n"
     ]
    },
    {
     "name": "stdout",
     "output_type": "stream",
     "text": [
      " time to solve with 48 threads: 0.3 secs [checksum: 3.66696324]\n"
     ]
    },
    {
     "name": "stdout",
     "output_type": "stream",
     "text": [
      " time to solve with 56 threads: 0.2 secs [checksum: 3.66696324]\n"
     ]
    },
    {
     "name": "stdout",
     "output_type": "stream",
     "text": [
      " time to solve with 64 threads: 0.2 secs [checksum: 3.66696324]\n"
     ]
    },
    {
     "name": "stdout",
     "output_type": "stream",
     "text": [
      " time to solve with 72 threads: 0.2 secs [checksum: 3.66696324]\n",
      "\n"
     ]
    }
   ],
   "source": [
    "solmethod = 'egm'\n",
    "for do_simple_w in [False,True]:\n",
    "    \n",
    "    print(f'{solmethod} (do_simple_w = {do_simple_w}) ')\n",
    "    \n",
    "    for threads in threads_list:\n",
    "\n",
    "        nb.set_num_threads(threads)\n",
    "        \n",
    "        # a. change solution method\n",
    "        model.par.solmethod = solmethod\n",
    "        model.par.do_simple_w = do_simple_w\n",
    "        model.par.do_print = False\n",
    "\n",
    "        # b. run\n",
    "        t0 = time.time()\n",
    "        model.solve()\n",
    "        print(f' time to solve with {threads:2d} threads: {elapsed(t0)} [checksum: {model.checksum():.8f}]')\n",
    "    \n",
    "    print('')\n"
   ]
  },
  {
   "cell_type": "markdown",
   "id": "e45c8bb2",
   "metadata": {
    "papermill": {
     "duration": 0.01201,
     "end_time": "2023-07-13T16:31:02.381906",
     "exception": false,
     "start_time": "2023-07-13T16:31:02.369896",
     "status": "completed"
    },
    "tags": []
   },
   "source": [
    "**Conclusion:** Numba is not always parallizing that well. And using too many threads can even be harmful."
   ]
  }
 ],
 "metadata": {
  "kernelspec": {
   "display_name": "Python 3 (ipykernel)",
   "language": "python",
   "name": "python3"
  },
  "language_info": {
   "codemirror_mode": {
    "name": "ipython",
    "version": 3
   },
   "file_extension": ".py",
   "mimetype": "text/x-python",
   "name": "python",
   "nbconvert_exporter": "python",
   "pygments_lexer": "ipython3",
   "version": "3.11.3"
  },
  "latex_envs": {
   "LaTeX_envs_menu_present": true,
   "autocomplete": true,
   "bibliofile": "biblio.bib",
   "cite_by": "apalike",
   "current_citInitial": 1,
   "eqLabelWithNumbers": true,
   "eqNumInitial": 1,
   "hotkeys": {
    "equation": "Ctrl-E",
    "itemize": "Ctrl-I"
   },
   "labels_anchors": false,
   "latex_user_defs": false,
   "report_style_numbering": false,
   "user_envs_cfg": false
  },
  "papermill": {
   "default_parameters": {},
   "duration": 425.119309,
   "end_time": "2023-07-13T16:31:03.119513",
   "environment_variables": {},
   "exception": null,
   "input_path": "01. BufferStockModel.ipynb",
   "output_path": "temp_notebooks/01. BufferStockModel.ipynb",
   "parameters": {},
   "start_time": "2023-07-13T16:23:58.000204",
   "version": "2.4.0"
  },
  "toc": {
   "base_numbering": 1,
   "nav_menu": {},
   "number_sections": true,
   "sideBar": false,
   "skip_h1_title": false,
   "title_cell": "Table of Contents",
   "title_sidebar": "Contents",
   "toc_cell": true,
   "toc_position": {},
   "toc_section_display": true,
   "toc_window_display": false
  },
  "toc-autonumbering": true,
  "varInspector": {
   "cols": {
    "lenName": 16,
    "lenType": 16,
    "lenVar": 40
   },
   "kernels_config": {
    "python": {
     "delete_cmd_postfix": "",
     "delete_cmd_prefix": "del ",
     "library": "var_list.py",
     "varRefreshCmd": "print(var_dic_list())"
    },
    "r": {
     "delete_cmd_postfix": ") ",
     "delete_cmd_prefix": "rm(",
     "library": "var_list.r",
     "varRefreshCmd": "cat(var_dic_list()) "
    }
   },
   "oldHeight": 267,
   "position": {
    "height": "40px",
    "left": "1542.33px",
    "right": "20px",
    "top": "133px",
    "width": "328px"
   },
   "types_to_exclude": [
    "module",
    "function",
    "builtin_function_or_method",
    "instance",
    "_Feature"
   ],
   "varInspector_section_display": "none",
   "window_display": true
  }
 },
 "nbformat": 4,
 "nbformat_minor": 5
}
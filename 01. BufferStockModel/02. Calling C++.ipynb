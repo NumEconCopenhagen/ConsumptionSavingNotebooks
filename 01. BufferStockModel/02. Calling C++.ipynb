{
 "cells": [
  {
   "cell_type": "markdown",
   "id": "b1505fec",
   "metadata": {
    "papermill": {
     "duration": 0.009966,
     "end_time": "2023-07-13T16:31:06.332151",
     "exception": false,
     "start_time": "2023-07-13T16:31:06.322185",
     "status": "completed"
    },
    "tags": []
   },
   "source": [
    "# Example with C++"
   ]
  },
  {
   "cell_type": "markdown",
   "id": "aedb0722",
   "metadata": {
    "papermill": {
     "duration": 0.004002,
     "end_time": "2023-07-13T16:31:06.341157",
     "exception": false,
     "start_time": "2023-07-13T16:31:06.337155",
     "status": "completed"
    },
    "tags": []
   },
   "source": [
    "**Table of contents**<a id='toc0_'></a>    \n",
    "- 1. [Setup](#toc1_)    \n",
    "\n",
    "<!-- vscode-jupyter-toc-config\n",
    "\tnumbering=true\n",
    "\tanchor=true\n",
    "\tflat=false\n",
    "\tminLevel=2\n",
    "\tmaxLevel=6\n",
    "\t/vscode-jupyter-toc-config -->\n",
    "<!-- THIS CELL WILL BE REPLACED ON TOC UPDATE. DO NOT WRITE YOUR TEXT IN THIS CELL -->"
   ]
  },
  {
   "cell_type": "markdown",
   "id": "72dc1354",
   "metadata": {
    "papermill": {
     "duration": 0.003003,
     "end_time": "2023-07-13T16:31:06.348165",
     "exception": false,
     "start_time": "2023-07-13T16:31:06.345162",
     "status": "completed"
    },
    "tags": []
   },
   "source": [
    "This notebooks shows how to **call C++ functions** using the interface from **consav**.\n",
    "\n",
    "**Platforms:** It only works on **Windows** computers. \n",
    "\n",
    "**Compilers:** One of these compilers must be installed\n",
    "\n",
    "* **vs**: Free *Microsoft Visual Studio 2022 Community Edition* ([link](https://visualstudio.microsoft.com/downloads/))\n",
    "* **intel:** Free *Intel one API* ([link](https://www.intel.com/content/www/us/en/developer/tools/oneapi/base-toolkit-download.html))\n",
    "\n",
    "**Computer used for timings:** Windows 10 computer with 2x Intel(R) Xeon(R) Gold 6254 3.10 GHz CPUs (18 cores, 36 logical processes each) and 768 GB of RAM."
   ]
  },
  {
   "cell_type": "markdown",
   "id": "8fb44e60",
   "metadata": {
    "papermill": {
     "duration": 0.003003,
     "end_time": "2023-07-13T16:31:06.354170",
     "exception": false,
     "start_time": "2023-07-13T16:31:06.351167",
     "status": "completed"
    },
    "tags": []
   },
   "source": [
    "## 1. <a id='toc1_'></a>[Setup](#toc0_)"
   ]
  },
  {
   "cell_type": "code",
   "execution_count": 1,
   "id": "fb13b8c0",
   "metadata": {
    "execution": {
     "iopub.execute_input": "2023-07-13T16:31:06.363177Z",
     "iopub.status.busy": "2023-07-13T16:31:06.362176Z",
     "iopub.status.idle": "2023-07-13T16:31:12.741473Z",
     "shell.execute_reply": "2023-07-13T16:31:12.741473Z"
    },
    "papermill": {
     "duration": 6.388246,
     "end_time": "2023-07-13T16:31:12.745418",
     "exception": false,
     "start_time": "2023-07-13T16:31:06.357172",
     "status": "completed"
    },
    "tags": []
   },
   "outputs": [],
   "source": [
    "%load_ext autoreload\n",
    "%autoreload 2\n",
    "\n",
    "import numpy as np\n",
    "import numba as nb\n",
    "\n",
    "# load the BufferStockModel module\n",
    "from BufferStockModel import BufferStockModelClass"
   ]
  },
  {
   "cell_type": "code",
   "execution_count": 2,
   "id": "6f44308d",
   "metadata": {
    "execution": {
     "iopub.execute_input": "2023-07-13T16:31:12.761431Z",
     "iopub.status.busy": "2023-07-13T16:31:12.760430Z",
     "iopub.status.idle": "2023-07-13T16:31:12.855508Z",
     "shell.execute_reply": "2023-07-13T16:31:12.854508Z"
    },
    "papermill": {
     "duration": 0.103129,
     "end_time": "2023-07-13T16:31:12.858555",
     "exception": false,
     "start_time": "2023-07-13T16:31:12.755426",
     "status": "completed"
    },
    "tags": []
   },
   "outputs": [],
   "source": [
    "DO_INTEL = True"
   ]
  },
  {
   "cell_type": "code",
   "execution_count": 3,
   "id": "6c891e87",
   "metadata": {
    "execution": {
     "iopub.execute_input": "2023-07-13T16:31:12.876526Z",
     "iopub.status.busy": "2023-07-13T16:31:12.875525Z",
     "iopub.status.idle": "2023-07-13T16:31:12.967645Z",
     "shell.execute_reply": "2023-07-13T16:31:12.967645Z"
    },
    "papermill": {
     "duration": 0.104131,
     "end_time": "2023-07-13T16:31:12.971649",
     "exception": false,
     "start_time": "2023-07-13T16:31:12.867518",
     "status": "completed"
    },
    "tags": []
   },
   "outputs": [],
   "source": [
    "threads_list = [x for x in np.arange(1,nb.config.NUMBA_NUM_THREADS+1) if x in [1,4,8] or x%8 == 0]\n",
    "compilers = ['vs','intel'] if DO_INTEL else ['vs']"
   ]
  },
  {
   "cell_type": "markdown",
   "id": "377380be",
   "metadata": {
    "papermill": {
     "duration": 0.006005,
     "end_time": "2023-07-13T16:31:12.985659",
     "exception": false,
     "start_time": "2023-07-13T16:31:12.979654",
     "status": "completed"
    },
    "tags": []
   },
   "source": [
    "## Calling C++"
   ]
  },
  {
   "cell_type": "code",
   "execution_count": 4,
   "id": "de8514e7",
   "metadata": {
    "execution": {
     "iopub.execute_input": "2023-07-13T16:31:12.994623Z",
     "iopub.status.busy": "2023-07-13T16:31:12.993621Z",
     "iopub.status.idle": "2023-07-13T16:31:13.097707Z",
     "shell.execute_reply": "2023-07-13T16:31:13.096706Z"
    },
    "papermill": {
     "duration": 0.112094,
     "end_time": "2023-07-13T16:31:13.101710",
     "exception": false,
     "start_time": "2023-07-13T16:31:12.989616",
     "status": "completed"
    },
    "tags": []
   },
   "outputs": [],
   "source": [
    "model = BufferStockModelClass(name='',par={'solmethod':'egm'})"
   ]
  },
  {
   "cell_type": "markdown",
   "id": "7577bcc6",
   "metadata": {
    "papermill": {
     "duration": 0.005004,
     "end_time": "2023-07-13T16:31:13.114721",
     "exception": false,
     "start_time": "2023-07-13T16:31:13.109717",
     "status": "completed"
    },
    "tags": []
   },
   "source": [
    "**Extra requirement:** `.settings()` should define `.cpp_filename` and `.cpp_options`.\n",
    "\n",
    "1. All elements in `namespaces` are availible as C++ structs with `_struct` appended (default, else specify `.cpp_structsmap` in `.settings()`).\n",
    "2. The C++ file is linked with `.link_to_cpp()`, and is then available in `.cpp`\n",
    "3. `.cpp.delink()`: Delink C++ file (release the .dll file, so that it can be overwritten when e.g. re-compiling).\n",
    "4. `.cpp.recompile()`: Delink, re-compile and re-link to C++ file.\n",
    "5. `.cpp.clean_up()`: Delink, remove .dll file, and remove any struct files."
   ]
  },
  {
   "cell_type": "code",
   "execution_count": 5,
   "id": "5be079f0",
   "metadata": {
    "execution": {
     "iopub.execute_input": "2023-07-13T16:31:13.123729Z",
     "iopub.status.busy": "2023-07-13T16:31:13.122728Z",
     "iopub.status.idle": "2023-07-13T16:31:36.336789Z",
     "shell.execute_reply": "2023-07-13T16:31:36.336789Z"
    },
    "papermill": {
     "duration": 23.220066,
     "end_time": "2023-07-13T16:31:36.338790",
     "exception": false,
     "start_time": "2023-07-13T16:31:13.118724",
     "status": "completed"
    },
    "tags": []
   },
   "outputs": [
    {
     "name": "stdout",
     "output_type": "stream",
     "text": [
      "Linking to: cppfuncs/egm.cpp\n",
      "\n",
      "### finding all included files ###\n",
      "\n",
      "logs.cpp\n",
      "par_struct.cpp\n",
      "sol_struct.cpp\n",
      "sim_struct.cpp\n",
      "\n",
      "### writing structs ###\n",
      "\n",
      "cppfuncs/par_struct.cpp\n",
      " char* solmethod;\n",
      " int T;\n",
      " double beta;\n",
      " double rho;\n",
      " double R;\n",
      " double sigma_psi;\n",
      " int Npsi;\n",
      " double sigma_xi;\n",
      " int Nxi;\n",
      " double pi;\n",
      " double mu;\n",
      " int Nm;\n",
      " int Np;\n",
      " int Na;\n",
      " double tol;\n",
      " bool do_print;\n",
      " bool do_simple_w;\n",
      " int cppthreads;\n",
      " int simT;\n",
      " int simN;\n",
      " int sim_seed;\n",
      " double* grid_m;\n",
      " double* grid_p;\n",
      " double* grid_a;\n",
      " double* psi;\n",
      " double* psi_w;\n",
      " double* xi;\n",
      " double* xi_w;\n",
      " int Nshocks;\n",
      "\n",
      "cppfuncs/sol_struct.cpp\n",
      " double* c;\n",
      " double* v;\n",
      " double* w;\n",
      " double* q;\n",
      "\n",
      "cppfuncs/sim_struct.cpp\n",
      " double* p;\n",
      " double* m;\n",
      " double* c;\n",
      " double* a;\n",
      " double* psi;\n",
      " double* xi;\n",
      "\n",
      "### analyzing cppfuncs/egm.cpp ###\n",
      "\n",
      "function: solve\n",
      "return type: void\n",
      "argument types: ['par_struct*', 'sol_struct*']\n",
      "\n",
      "### analyzing cppfuncs/logs.cpp ###\n",
      "\n",
      "### analyzing cppfuncs/par_struct.cpp ###\n",
      "\n",
      "### analyzing cppfuncs/sol_struct.cpp ###\n",
      "\n",
      "### analyzing cppfuncs/sim_struct.cpp ###\n",
      "\n",
      "### compiling and linking ###\n",
      "\n",
      "compile.bat:\n",
      "cd /d \"C:/Program Files/Microsoft Visual Studio/2022/Community/VC/Auxiliary/Build/\"\n",
      "call vcvarsall.bat x64\n",
      "cd /d \"c:\\Users\\gmf123.UNICPH\\Documents\\repositories\\ConsumptionSavingNotebooks\\01. BufferStockModel\"\n",
      "cl /LD /EHsc /Ox /openmp cppfuncs/egm.cpp setup_omp.cpp \n",
      "\n"
     ]
    },
    {
     "name": "stdout",
     "output_type": "stream",
     "text": [
      "terminal:\n",
      "\n",
      "(c:\\Users\\gmf123.UNICPH\\AppData\\Local\\anaconda3) c:\\Users\\gmf123.UNICPH\\Documents\\repositories\\ConsumptionSavingNotebooks\\01. BufferStockModel>cd /d \"C:/Program Files/Microsoft Visual Studio/2022/Community/VC/Auxiliary/Build/\" \n",
      "\n",
      "(c:\\Users\\gmf123.UNICPH\\AppData\\Local\\anaconda3) C:\\Program Files\\Microsoft Visual Studio\\2022\\Community\\VC\\Auxiliary\\Build>call vcvarsall.bat x64 \n",
      "**********************************************************************\n",
      "** Visual Studio 2022 Developer Command Prompt v17.0.6\n",
      "** Copyright (c) 2021 Microsoft Corporation\n",
      "**********************************************************************\n",
      "[vcvarsall.bat] Environment initialized for: 'x64'\n",
      "egm.cpp\n",
      "setup_omp.cpp\n",
      "Generating Code...\n",
      "Microsoft (R) Incremental Linker Version 14.30.30709.0\n",
      "Copyright (C) Microsoft Corporation.  All rights reserved.\n",
      "\n",
      "/out:egm.dll \n",
      "/dll \n",
      "/implib:egm.lib \n",
      "egm.obj \n",
      "setup_omp.obj \n",
      "   Creating library egm.lib and object egm.exp\n",
      "\n",
      "Microsoft (R) C/C++ Optimizing Compiler Version 19.30.30709 for x64\n",
      "Copyright (C) Microsoft Corporation.  All rights reserved.\n",
      "\n",
      "\n",
      "C++ files compiled\n",
      "C++ files loaded\n",
      "\n",
      "DONE!\n",
      "\n",
      "### compiler = vs ###\n",
      "\n"
     ]
    },
    {
     "name": "stdout",
     "output_type": "stream",
     "text": [
      " time to solve with  1 threads 4.69 secs [checksum: 3.66696324]\n"
     ]
    },
    {
     "name": "stdout",
     "output_type": "stream",
     "text": [
      " time to solve with  4 threads 1.31 secs [checksum: 3.66696324]\n"
     ]
    },
    {
     "name": "stdout",
     "output_type": "stream",
     "text": [
      " time to solve with  8 threads 0.63 secs [checksum: 3.66696324]\n"
     ]
    },
    {
     "name": "stdout",
     "output_type": "stream",
     "text": [
      " time to solve with 16 threads 0.33 secs [checksum: 3.66696324]\n"
     ]
    },
    {
     "name": "stdout",
     "output_type": "stream",
     "text": [
      " time to solve with 24 threads 0.28 secs [checksum: 3.66696324]\n"
     ]
    },
    {
     "name": "stdout",
     "output_type": "stream",
     "text": [
      " time to solve with 32 threads 0.20 secs [checksum: 3.66696324]\n"
     ]
    },
    {
     "name": "stdout",
     "output_type": "stream",
     "text": [
      " time to solve with 40 threads 0.24 secs [checksum: 3.66696324]\n"
     ]
    },
    {
     "name": "stdout",
     "output_type": "stream",
     "text": [
      " time to solve with 48 threads 0.22 secs [checksum: 3.66696324]\n",
      " time to solve with 56 threads 0.18 secs [checksum: 3.66696324]\n"
     ]
    },
    {
     "name": "stdout",
     "output_type": "stream",
     "text": [
      " time to solve with 64 threads 0.18 secs [checksum: 3.66696324]\n",
      " time to solve with 72 threads 0.16 secs [checksum: 3.66696324]\n",
      "\n"
     ]
    },
    {
     "name": "stdout",
     "output_type": "stream",
     "text": [
      "### compiler = intel ###\n",
      "\n"
     ]
    },
    {
     "name": "stdout",
     "output_type": "stream",
     "text": [
      " time to solve with  1 threads 4.94 secs [checksum: 3.66696324]\n"
     ]
    },
    {
     "name": "stdout",
     "output_type": "stream",
     "text": [
      " time to solve with  4 threads 1.35 secs [checksum: 3.66696324]\n"
     ]
    },
    {
     "name": "stdout",
     "output_type": "stream",
     "text": [
      " time to solve with  8 threads 0.68 secs [checksum: 3.66696324]\n"
     ]
    },
    {
     "name": "stdout",
     "output_type": "stream",
     "text": [
      " time to solve with 16 threads 0.34 secs [checksum: 3.66696324]\n"
     ]
    },
    {
     "name": "stdout",
     "output_type": "stream",
     "text": [
      " time to solve with 24 threads 0.29 secs [checksum: 3.66696324]\n"
     ]
    },
    {
     "name": "stdout",
     "output_type": "stream",
     "text": [
      " time to solve with 32 threads 0.23 secs [checksum: 3.66696324]\n"
     ]
    },
    {
     "name": "stdout",
     "output_type": "stream",
     "text": [
      " time to solve with 40 threads 0.21 secs [checksum: 3.66696324]\n",
      " time to solve with 48 threads 0.18 secs [checksum: 3.66696324]\n"
     ]
    },
    {
     "name": "stdout",
     "output_type": "stream",
     "text": [
      " time to solve with 56 threads 0.15 secs [checksum: 3.66696324]\n",
      " time to solve with 64 threads 0.13 secs [checksum: 3.66696324]\n"
     ]
    },
    {
     "name": "stdout",
     "output_type": "stream",
     "text": [
      " time to solve with 72 threads 0.13 secs [checksum: 3.66696324]\n",
      "\n"
     ]
    }
   ],
   "source": [
    "for compiler in compilers:\n",
    "    \n",
    "    # a. compile\n",
    "    model.cpp_options['compiler'] = compiler # change compiler\n",
    "    model.link_to_cpp(do_print=(compiler=='vs'))\n",
    "    \n",
    "    print(f'### compiler = {compiler} ###')\n",
    "    print('')\n",
    "        \n",
    "    # b. run with different number of threads\n",
    "    for threads in threads_list:\n",
    "        \n",
    "        model.par.cppthreads = threads\n",
    "        tic,toc = model.solve_cpp()\n",
    "        \n",
    "        print(f' time to solve with {threads:2d} threads {toc-tic:.2f} secs [checksum: {model.checksum():.8f}]')    \n",
    "    \n",
    "    print('')\n",
    "        \n",
    "    # c. unlink\n",
    "    model.cpp.delink() # else it is not possible to compile again"
   ]
  },
  {
   "cell_type": "markdown",
   "id": "94442f99",
   "metadata": {
    "papermill": {
     "duration": 0.004004,
     "end_time": "2023-07-13T16:31:36.349800",
     "exception": false,
     "start_time": "2023-07-13T16:31:36.345796",
     "status": "completed"
    },
    "tags": []
   },
   "source": [
    "## Clean-up"
   ]
  },
  {
   "cell_type": "code",
   "execution_count": 6,
   "id": "b06bca3d",
   "metadata": {
    "execution": {
     "iopub.execute_input": "2023-07-13T16:31:36.361810Z",
     "iopub.status.busy": "2023-07-13T16:31:36.360809Z",
     "iopub.status.idle": "2023-07-13T16:31:36.438875Z",
     "shell.execute_reply": "2023-07-13T16:31:36.438875Z"
    },
    "papermill": {
     "duration": 0.088065,
     "end_time": "2023-07-13T16:31:36.442878",
     "exception": false,
     "start_time": "2023-07-13T16:31:36.354813",
     "status": "completed"
    },
    "tags": []
   },
   "outputs": [],
   "source": [
    "model.cpp.clean_up()"
   ]
  }
 ],
 "metadata": {
  "kernelspec": {
   "display_name": "Python 3 (ipykernel)",
   "language": "python",
   "name": "python3"
  },
  "language_info": {
   "codemirror_mode": {
    "name": "ipython",
    "version": 3
   },
   "file_extension": ".py",
   "mimetype": "text/x-python",
   "name": "python",
   "nbconvert_exporter": "python",
   "pygments_lexer": "ipython3",
   "version": "3.11.3"
  },
  "papermill": {
   "default_parameters": {},
   "duration": 32.764952,
   "end_time": "2023-07-13T16:31:36.979364",
   "environment_variables": {},
   "exception": null,
   "input_path": "02. Calling C++.ipynb",
   "output_path": "temp_notebooks/02. Calling C++.ipynb",
   "parameters": {},
   "start_time": "2023-07-13T16:31:04.214412",
   "version": "2.4.0"
  }
 },
 "nbformat": 4,
 "nbformat_minor": 5
}